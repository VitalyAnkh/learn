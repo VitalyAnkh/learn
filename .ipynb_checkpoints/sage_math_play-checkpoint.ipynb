{
 "cells": [
  {
   "cell_type": "code",
   "execution_count": 1,
   "id": "5e042045-0dd4-48bd-80f8-ffea83ad96e5",
   "metadata": {},
   "outputs": [
    {
     "name": "stdout",
     "output_type": "stream",
     "text": [
      "1/3*sqrt(3)*arctan(1/3*sqrt(3)*(2*x - 1)) - 1/6*log(x^2 - x + 1) + 1/3*log(x + 1)\n"
     ]
    }
   ],
   "source": [
    "print(integrate(1/(x^3+1),x))"
   ]
  },
  {
   "cell_type": "code",
   "execution_count": 4,
   "id": "778ac8fd-9a2e-4947-8cb3-4cdfaba880e9",
   "metadata": {},
   "outputs": [
    {
     "data": {
      "text/plain": [
       "1/2*pi"
      ]
     },
     "execution_count": 4,
     "metadata": {},
     "output_type": "execute_result"
    }
   ],
   "source": [
    "t = var('t')\n",
    "integrate(sin(t)/t,t,0,infinity)"
   ]
  },
  {
   "cell_type": "code",
   "execution_count": null,
   "id": "fe9ac48a-3bc6-4140-a10e-f7cc64166488",
   "metadata": {},
   "outputs": [],
   "source": []
  }
 ],
 "metadata": {
  "kernelspec": {
   "display_name": "SageMath 9.7",
   "language": "sage",
   "name": "sagemath"
  },
  "language_info": {
   "codemirror_mode": {
    "name": "ipython",
    "version": 3
   },
   "file_extension": ".py",
   "mimetype": "text/x-python",
   "name": "python",
   "nbconvert_exporter": "python",
   "pygments_lexer": "ipython3",
   "version": "3.10.8"
  }
 },
 "nbformat": 4,
 "nbformat_minor": 5
}
