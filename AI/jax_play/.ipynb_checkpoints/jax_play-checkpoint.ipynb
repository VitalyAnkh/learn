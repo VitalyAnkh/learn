{
 "cells": [
  {
   "cell_type": "code",
   "execution_count": 3,
   "id": "8308b960-4a85-4843-bdd2-f7155cd428d1",
   "metadata": {},
   "outputs": [
    {
     "data": {
      "text/plain": [
       "'5.0.0rc'"
      ]
     },
     "execution_count": 3,
     "metadata": {},
     "output_type": "execute_result"
    }
   ],
   "source": [
    "import jax\n",
    "import jax.numpy as jnp\n",
    "import torch as t\n",
    "t.__version__"
   ]
  },
  {
   "cell_type": "code",
   "execution_count": 4,
   "id": "eda09cb8-2d5f-4577-8db6-1f2d1ffce174",
   "metadata": {},
   "outputs": [
    {
     "name": "stdout",
     "output_type": "stream",
     "text": [
      "{ \u001b[34m\u001b[22m\u001b[1mlambda \u001b[39m\u001b[22m\u001b[22m; a\u001b[35m:f32[1]\u001b[39m b\u001b[35m:f32[1]\u001b[39m. \u001b[34m\u001b[22m\u001b[1mlet\n",
      "    \u001b[39m\u001b[22m\u001b[22mc\u001b[35m:f32[1]\u001b[39m = sin a\n",
      "    d\u001b[35m:f32[1]\u001b[39m = cos b\n",
      "    e\u001b[35m:f32[1]\u001b[39m = add c d\n",
      "  \u001b[34m\u001b[22m\u001b[1min \u001b[39m\u001b[22m\u001b[22m(e,) }\n"
     ]
    }
   ],
   "source": [
    "import jax\n",
    "import jax.numpy as jnp\n",
    "\n",
    "def example_function(x, y):\n",
    "    z = jnp.sin(x) + jnp.cos(y)\n",
    "    return z\n",
    "\n",
    "# Compile the function to its jaxpr representation\n",
    "jaxpr = jax.make_jaxpr(example_function)(jnp.array([1.0]), jnp.array([2.0]))\n",
    "print(jaxpr)"
   ]
  },
  {
   "cell_type": "code",
   "execution_count": 5,
   "id": "4d8e7f8a-b681-4530-b743-a6c0c9a04a6d",
   "metadata": {},
   "outputs": [
    {
     "data": {
      "text/plain": [
       "'gpu'"
      ]
     },
     "execution_count": 5,
     "metadata": {},
     "output_type": "execute_result"
    }
   ],
   "source": [
    "jax.default_backend()"
   ]
  },
  {
   "cell_type": "code",
   "execution_count": 6,
   "id": "25122ed5-1cd7-4fd3-ac90-80ffda9f870a",
   "metadata": {},
   "outputs": [
    {
     "ename": "TypeError",
     "evalue": "jaxlib.xla_extension.Device: no constructor defined!",
     "output_type": "error",
     "traceback": [
      "\u001b[0;31m---------------------------------------------------------------------------\u001b[0m",
      "\u001b[0;31mTypeError\u001b[0m                                 Traceback (most recent call last)",
      "Cell \u001b[0;32mIn[6], line 1\u001b[0m\n\u001b[0;32m----> 1\u001b[0m \u001b[43mjax\u001b[49m\u001b[38;5;241;43m.\u001b[39;49m\u001b[43mDevice\u001b[49m\u001b[43m(\u001b[49m\u001b[43m)\u001b[49m\n",
      "\u001b[0;31mTypeError\u001b[0m: jaxlib.xla_extension.Device: no constructor defined!"
     ]
    }
   ],
   "source": [
    "jax.Device()"
   ]
  },
  {
   "cell_type": "code",
   "execution_count": 7,
   "id": "d6938d87-4cb6-4fe9-9569-245b8a87cb04",
   "metadata": {},
   "outputs": [
    {
     "data": {
      "text/plain": [
       "jaxlib.xla_extension.Device"
      ]
     },
     "execution_count": 7,
     "metadata": {},
     "output_type": "execute_result"
    }
   ],
   "source": [
    "jax.Device"
   ]
  },
  {
   "cell_type": "code",
   "execution_count": 8,
   "id": "5e63f4f6-1edc-4843-831c-c5e26c0a9342",
   "metadata": {},
   "outputs": [
    {
     "name": "stdout",
     "output_type": "stream",
     "text": [
      "<class 'jaxlib.xla_extension.Device'>\n"
     ]
    }
   ],
   "source": [
    "print(jax.Device)"
   ]
  },
  {
   "cell_type": "code",
   "execution_count": null,
   "id": "0fd57474-9e5e-4dc3-b7e0-c55687c62ddf",
   "metadata": {},
   "outputs": [],
   "source": []
  }
 ],
 "metadata": {
  "kernelspec": {
   "display_name": "Python 3 (ipykernel)",
   "language": "python",
   "name": "python3"
  },
  "language_info": {
   "codemirror_mode": {
    "name": "ipython",
    "version": 3
   },
   "file_extension": ".py",
   "mimetype": "text/x-python",
   "name": "python",
   "nbconvert_exporter": "python",
   "pygments_lexer": "ipython3",
   "version": "3.11.8"
  }
 },
 "nbformat": 4,
 "nbformat_minor": 5
}
