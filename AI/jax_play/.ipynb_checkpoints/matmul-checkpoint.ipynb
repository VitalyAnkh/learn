{
 "cells": [
  {
   "cell_type": "code",
   "execution_count": 8,
   "id": "cb0c641f-4196-432c-bc05-c3b42f829c31",
   "metadata": {},
   "outputs": [
    {
     "name": "stdout",
     "output_type": "stream",
     "text": [
      "0.022518274003232364 272.84506792652337\n"
     ]
    }
   ],
   "source": [
    "import numpy as np\n",
    "import time\n",
    "M = 10000\n",
    "K = 10240\n",
    "N = 30000\n",
    "A = np.random.randn(M, K).astype(np.float32)\n",
    "B = np.random.randn(K, N).astype(np.float32)\n",
    "FLOP = 2*K*M*N\n",
    "\n",
    "start = time.perf_counter()\n",
    "C = A @ B\n",
    "end = time.perf_counter()\n",
    "exec_time = end - start\n",
    "FLOPS = FLOP/exec_time\n",
    "GFLOPS = FLOPS/1e9\n",
    "print(exec_time, GFLOPS)"
   ]
  },
  {
   "cell_type": "code",
   "execution_count": null,
   "id": "67f3433e-3b83-4eae-9157-9189afc24c76",
   "metadata": {},
   "outputs": [],
   "source": []
  }
 ],
 "metadata": {
  "kernelspec": {
   "display_name": "Python 3 (ipykernel)",
   "language": "python",
   "name": "python3"
  },
  "language_info": {
   "codemirror_mode": {
    "name": "ipython",
    "version": 3
   },
   "file_extension": ".py",
   "mimetype": "text/x-python",
   "name": "python",
   "nbconvert_exporter": "python",
   "pygments_lexer": "ipython3",
   "version": "3.11.8"
  }
 },
 "nbformat": 4,
 "nbformat_minor": 5
}
