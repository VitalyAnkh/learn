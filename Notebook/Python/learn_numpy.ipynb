{
 "cells": [
  {
   "cell_type": "code",
   "execution_count": 10,
   "metadata": {},
   "outputs": [
    {
     "data": {
      "image/png": "[encoded data removed]",
      "text/plain": [
       "<Figure size 432x288 with 1 Axes>"
      ]
     },
     "metadata": {
      "needs_background": "light"
     },
     "output_type": "display_data"
    }
   ],
   "source": [
    "\n",
    "import numpy as np\n",
    "import math\n",
    "from matplotlib import pyplot as plt\n",
    "from matplotlib import animation\n",
    "\n",
    "totalFrames=1000\n",
    "h=1.0/totalFrames\n",
    "\n",
    "fig = plt.figure()\n",
    "ax = plt.axes(xlim=(0, 1), ylim=(0, 1))\n",
    "line, = ax.plot([], [], lw=2)\n",
    "plotlays, plotcols = [4], [\"blue\",\"blue\",\"blue\",\"blue\"]\n",
    "lines = []\n",
    "for index in range(4):\n",
    "    lobj = ax.plot([],[],lw=2,color=plotcols[index])[0]\n",
    "    lines.append(lobj)\n",
    "    \n",
    "Ax=[h,]\n",
    "Ay=[0,]\n",
    "Bx=[1.0,]\n",
    "By=[h,]\n",
    "Cx=[1.0-h,]\n",
    "Cy=[1.0,]\n",
    "Dx=[0,]\n",
    "Dy=[1.0-h,]\n",
    "\n",
    "xList = (Ax, Bx, Cx, Dx)\n",
    "yList = (Ay, By, Cy, Dy)\n",
    "\n",
    "def init():\n",
    "    for line in lines:\n",
    "        line.set_data([],[])\n",
    "    return lines\n",
    "\n",
    "def animate(i):\n",
    "    for j,k in enumerate((1,2,3,0)):\n",
    "        deltaX=xList[k][-1]-xList[j][-1]\n",
    "        deltaY=yList[k][-1]-yList[j][-1]\n",
    "        theta=math.atan2(deltaY,deltaX)\n",
    "        xList[j].append(xList[j][-1]+h*math.cos(theta))\n",
    "        yList[j].append(yList[j][-1]+h*math.cos(theta))\n",
    "    for lnum,line in enumerate(lines):\n",
    "        line.set_data(xList[lnum],yList[lnum])\n",
    "    return lines\n",
    "\n",
    "\n",
    "anim = animation.FuncAnimation(fig, animate, init_func=init, frames=totalFrames, interval=20, blit=False)\n",
    "\n",
    "anim.save('basic_animation.mp4', fps=20, extra_args=['-vcodec', 'libx264'])\n",
    " \n",
    "plt.show()"
   ]
  },
  {
   "cell_type": "code",
   "execution_count": null,
   "metadata": {},
   "outputs": [],
   "source": []
  }
 ],
 "metadata": {
  "kernelspec": {
   "display_name": "Python 3",
   "language": "python",
   "name": "python3"
  },
  "language_info": {
   "codemirror_mode": {
    "name": "ipython",
    "version": 3
   },
   "file_extension": ".py",
   "mimetype": "text/x-python",
   "name": "python",
   "nbconvert_exporter": "python",
   "pygments_lexer": "ipython3",
   "version": "3.7.3"
  }
 },
 "nbformat": 4,
 "nbformat_minor": 4
}
