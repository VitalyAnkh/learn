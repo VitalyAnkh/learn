{
 "cells": [
  {
   "cell_type": "code",
   "execution_count": 37,
   "metadata": {},
   "outputs": [
    {
     "name": "stderr",
     "output_type": "stream",
     "text": [
      "[nltk_data] Downloading package punkt to /home/vitalyr/nltk_data...\n",
      "[nltk_data]   Package punkt is already up-to-date!\n"
     ]
    }
   ],
   "source": [
    "import math\n",
    "import nltk\n",
    "nltk.download(\"punkt\")\n",
    "from nltk import bigrams\n",
    "import collections\n",
    "\n",
    "f=open(\"红楼梦-半本.txt\")\n",
    "a=f.read()\n",
    "#a = \"\"\"When the defendant and his lawyer walked into the court, some of the victim supporters turned their backs on him.  if we have more data then it will be more interesting because we have more chance to repeat bigrams. After some of the victim supporters turned their backs then a subset of the victim supporters turned around and left the court.\"\"\"\n"
   ]
  },
  {
   "cell_type": "code",
   "execution_count": 5,
   "metadata": {},
   "outputs": [
    {
     "data": {
      "text/plain": [
       "'When the defendant and his lawyer walked into the court, some of the victim supporters turned their backs on him.  if we have more data then it will be more interesting because we have more chance to repeat bigrams. After some of the victim supporters turned their backs then a subset of the victim supporters turned around and left the court.'"
      ]
     },
     "execution_count": 5,
     "metadata": {},
     "output_type": "execute_result"
    }
   ],
   "source": [
    "a"
   ]
  },
  {
   "cell_type": "code",
   "execution_count": 38,
   "metadata": {},
   "outputs": [],
   "source": [
    "a1=a.split()\n",
    "words=nltk.word_tokenize(a)"
   ]
  },
  {
   "cell_type": "code",
   "execution_count": 40,
   "metadata": {},
   "outputs": [
    {
     "ename": "TabError",
     "evalue": "inconsistent use of tabs and spaces in indentation (<ipython-input-40-c70ec94dc110>, line 27)",
     "output_type": "error",
     "traceback": [
      "\u001b[0;36m  File \u001b[0;32m\"<ipython-input-40-c70ec94dc110>\"\u001b[0;36m, line \u001b[0;32m27\u001b[0m\n\u001b[0;31m    line_seg = \" \".join(jieba.cut(line))\u001b[0m\n\u001b[0m                                        ^\u001b[0m\n\u001b[0;31mTabError\u001b[0m\u001b[0;31m:\u001b[0m inconsistent use of tabs and spaces in indentation\n"
     ]
    }
   ],
   "source": [
    "import jieba\n",
    "import jieba.analyse\n",
    "import jieba.posseg as pseg\n",
    "import codecs,sys\n",
    "from string import punctuation\n",
    "if sys.getdefaultencoding() != 'utf-8':\n",
    "    reload(sys)\n",
    "    sys.setdefaultencoding('utf-8')\n",
    "# 定义要删除的标点等字符\n",
    "add_punc='，。、【 】 “”：；（）《》‘’{}？！⑦()、%^>℃：.”“^-——=&#@￥'\n",
    "all_punc=punctuation+add_punc\n",
    " \n",
    "#def cut_words(sentence):\n",
    "    #print sentence\n",
    "#    return \" \".join(jieba.cut(sentence)).encode('utf-8')\n",
    "# 指定要分词的文本\n",
    "f=codecs.open('红楼梦-半本.txt','r',encoding=\"utf8\")\n",
    "#指定分词结果的保存文本\n",
    "target = codecs.open(\"out.txt\", 'w',encoding=\"utf8\")\n",
    "print ('open files')\n",
    "line_num=1\n",
    "line = f.readline()\n",
    "while line:\n",
    "    \n",
    "    print('---- processing ', line_num, ' article----------------')\n",
    "    # 第一次分词，用于移除标点等符号\n",
    "\t#line=re.sub(r'[A-Za-z0-9]|/d+','',line)   #用于移除英文和数字\n",
    "    line_seg = \" \".join(jieba.cut(line))\n",
    "    # 移除标点等需要删除的符号\n",
    "    testline=line_seg.split(' ')\n",
    "    te2=[]\n",
    "    for i in testline:\n",
    "        te2.append(i)\n",
    "        if i in all_punc:\n",
    "            te2.remove(i)\n",
    "    # 返回的te2是个list，转换为string后少了空格，因此需要再次分词\n",
    "\t# 第二次在仅汉字的基础上再次进行分词\n",
    "    line_seg2 = \" \".join(jieba.cut(''.join(te2)))\n",
    "    target.writelines(line_seg2)\n",
    "    line_num = line_num + 1\n",
    "    line = f.readline()\n",
    "f.close()\n",
    "target.close()\n",
    "exit()"
   ]
  },
  {
   "cell_type": "code",
   "execution_count": 24,
   "metadata": {},
   "outputs": [
    {
     "data": {
      "text/plain": [
       "Counter({'When': 1,\n",
       "         'the': 6,\n",
       "         'defendant': 1,\n",
       "         'and': 2,\n",
       "         'his': 1,\n",
       "         'lawyer': 1,\n",
       "         'walked': 1,\n",
       "         'into': 1,\n",
       "         'court,': 1,\n",
       "         'some': 2,\n",
       "         'of': 3,\n",
       "         'victim': 3,\n",
       "         'supporters': 3,\n",
       "         'turned': 3,\n",
       "         'their': 2,\n",
       "         'backs': 2,\n",
       "         'on': 1,\n",
       "         'him.': 1,\n",
       "         'if': 1,\n",
       "         'we': 2,\n",
       "         'have': 2,\n",
       "         'more': 3,\n",
       "         'data': 1,\n",
       "         'then': 2,\n",
       "         'it': 1,\n",
       "         'will': 1,\n",
       "         'be': 1,\n",
       "         'interesting': 1,\n",
       "         'because': 1,\n",
       "         'chance': 1,\n",
       "         'to': 1,\n",
       "         'repeat': 1,\n",
       "         'bigrams.': 1,\n",
       "         'After': 1,\n",
       "         'a': 1,\n",
       "         'subset': 1,\n",
       "         'around': 1,\n",
       "         'left': 1,\n",
       "         'court.': 1})"
      ]
     },
     "execution_count": 24,
     "metadata": {},
     "output_type": "execute_result"
    }
   ],
   "source": [
    "a2=collections.Counter(a1)\n",
    "a2"
   ]
  },
  {
   "cell_type": "code",
   "execution_count": 25,
   "metadata": {},
   "outputs": [
    {
     "ename": "NameError",
     "evalue": "name 'y' is not defined",
     "output_type": "error",
     "traceback": [
      "\u001b[0;31m---------------------------------------------------------------------------\u001b[0m",
      "\u001b[0;31mNameError\u001b[0m                                 Traceback (most recent call last)",
      "\u001b[0;32m<ipython-input-25-fdce789ec458>\u001b[0m in \u001b[0;36m<module>\u001b[0;34m\u001b[0m\n\u001b[1;32m      9\u001b[0m     k = {x: round(math.log((a7[b]/(a6[x] * a6[y])), 2), 4)\n\u001b[1;32m     10\u001b[0m          for b in a7 for y in a6 if x and y in b}\n\u001b[0;32m---> 11\u001b[0;31m     \u001b[0mu\u001b[0m\u001b[0;34m[\u001b[0m\u001b[0;34m(\u001b[0m\u001b[0mx\u001b[0m\u001b[0;34m,\u001b[0m\u001b[0my\u001b[0m\u001b[0;34m)\u001b[0m\u001b[0;34m]\u001b[0m \u001b[0;34m=\u001b[0m \u001b[0mk\u001b[0m\u001b[0;34m[\u001b[0m\u001b[0mx\u001b[0m\u001b[0;34m]\u001b[0m\u001b[0;34m\u001b[0m\u001b[0;34m\u001b[0m\u001b[0m\n\u001b[0m\u001b[1;32m     12\u001b[0m     k = {x: round(math.log((a7[b]/(a6[x] * a6[y])), 2), 4)\n\u001b[1;32m     13\u001b[0m          for b in a7 for y in a6 if x in b and y in b}\n",
      "\u001b[0;31mNameError\u001b[0m: name 'y' is not defined"
     ]
    }
   ],
   "source": [
    "a3 = collections.Counter(bigrams(a1))\n",
    "a4 = sum([a2[x]for x in a2])\n",
    "a5 = sum([a3[x]for x in a3])\n",
    "a6 = {x: float(a2[x])/a4 for x in a2}  # word probabilities(w1 and w2)\n",
    "a7 = {x: float(a3[x])/a5 for x in a3}  # joint probabilites (w1&w2)\n",
    "u = {}\n",
    "v = {}\n",
    "for x in a6:\n",
    "    k = {x: round(math.log((a7[b]/(a6[x] * a6[y])), 2), 4)\n",
    "         for b in a7 for y in a6 if x and y in b}\n",
    "    u[x] = k[x]\n",
    "    k = {x: round(math.log((a7[b]/(a6[x] * a6[y])), 2), 4)\n",
    "         for b in a7 for y in a6 if x in b and y in b}\n",
    "    v[x] = k[x]"
   ]
  },
  {
   "cell_type": "code",
   "execution_count": 15,
   "metadata": {},
   "outputs": [
    {
     "data": {
      "text/plain": [
       "Counter({('When', 'the'): 1,\n",
       "         ('the', 'defendant'): 1,\n",
       "         ('defendant', 'and'): 1,\n",
       "         ('and', 'his'): 1,\n",
       "         ('his', 'lawyer'): 1,\n",
       "         ('lawyer', 'walked'): 1,\n",
       "         ('walked', 'into'): 1,\n",
       "         ('into', 'the'): 1,\n",
       "         ('the', 'court,'): 1,\n",
       "         ('court,', 'some'): 1,\n",
       "         ('some', 'of'): 2,\n",
       "         ('of', 'the'): 3,\n",
       "         ('the', 'victim'): 3,\n",
       "         ('victim', 'supporters'): 3,\n",
       "         ('supporters', 'turned'): 3,\n",
       "         ('turned', 'their'): 2,\n",
       "         ('their', 'backs'): 2,\n",
       "         ('backs', 'on'): 1,\n",
       "         ('on', 'him.'): 1,\n",
       "         ('him.', 'if'): 1,\n",
       "         ('if', 'we'): 1,\n",
       "         ('we', 'have'): 2,\n",
       "         ('have', 'more'): 2,\n",
       "         ('more', 'data'): 1,\n",
       "         ('data', 'then'): 1,\n",
       "         ('then', 'it'): 1,\n",
       "         ('it', 'will'): 1,\n",
       "         ('will', 'be'): 1,\n",
       "         ('be', 'more'): 1,\n",
       "         ('more', 'interesting'): 1,\n",
       "         ('interesting', 'because'): 1,\n",
       "         ('because', 'we'): 1,\n",
       "         ('more', 'chance'): 1,\n",
       "         ('chance', 'to'): 1,\n",
       "         ('to', 'repeat'): 1,\n",
       "         ('repeat', 'bigrams.'): 1,\n",
       "         ('bigrams.', 'After'): 1,\n",
       "         ('After', 'some'): 1,\n",
       "         ('backs', 'then'): 1,\n",
       "         ('then', 'a'): 1,\n",
       "         ('a', 'subset'): 1,\n",
       "         ('subset', 'of'): 1,\n",
       "         ('turned', 'around'): 1,\n",
       "         ('around', 'and'): 1,\n",
       "         ('and', 'left'): 1,\n",
       "         ('left', 'the'): 1,\n",
       "         ('the', 'court.'): 1})"
      ]
     },
     "execution_count": 15,
     "metadata": {},
     "output_type": "execute_result"
    }
   ],
   "source": [
    "a3"
   ]
  },
  {
   "cell_type": "code",
   "execution_count": 17,
   "metadata": {},
   "outputs": [
    {
     "data": {
      "text/plain": [
       "61"
      ]
     },
     "execution_count": 17,
     "metadata": {},
     "output_type": "execute_result"
    }
   ],
   "source": [
    "a4"
   ]
  },
  {
   "cell_type": "code",
   "execution_count": 18,
   "metadata": {},
   "outputs": [
    {
     "data": {
      "text/plain": [
       "60"
      ]
     },
     "execution_count": 18,
     "metadata": {},
     "output_type": "execute_result"
    }
   ],
   "source": [
    "a5"
   ]
  },
  {
   "cell_type": "code",
   "execution_count": 19,
   "metadata": {},
   "outputs": [
    {
     "data": {
      "text/plain": [
       "{'When': 0.01639344262295082,\n",
       " 'the': 0.09836065573770492,\n",
       " 'defendant': 0.01639344262295082,\n",
       " 'and': 0.03278688524590164,\n",
       " 'his': 0.01639344262295082,\n",
       " 'lawyer': 0.01639344262295082,\n",
       " 'walked': 0.01639344262295082,\n",
       " 'into': 0.01639344262295082,\n",
       " 'court,': 0.01639344262295082,\n",
       " 'some': 0.03278688524590164,\n",
       " 'of': 0.04918032786885246,\n",
       " 'victim': 0.04918032786885246,\n",
       " 'supporters': 0.04918032786885246,\n",
       " 'turned': 0.04918032786885246,\n",
       " 'their': 0.03278688524590164,\n",
       " 'backs': 0.03278688524590164,\n",
       " 'on': 0.01639344262295082,\n",
       " 'him.': 0.01639344262295082,\n",
       " 'if': 0.01639344262295082,\n",
       " 'we': 0.03278688524590164,\n",
       " 'have': 0.03278688524590164,\n",
       " 'more': 0.04918032786885246,\n",
       " 'data': 0.01639344262295082,\n",
       " 'then': 0.03278688524590164,\n",
       " 'it': 0.01639344262295082,\n",
       " 'will': 0.01639344262295082,\n",
       " 'be': 0.01639344262295082,\n",
       " 'interesting': 0.01639344262295082,\n",
       " 'because': 0.01639344262295082,\n",
       " 'chance': 0.01639344262295082,\n",
       " 'to': 0.01639344262295082,\n",
       " 'repeat': 0.01639344262295082,\n",
       " 'bigrams.': 0.01639344262295082,\n",
       " 'After': 0.01639344262295082,\n",
       " 'a': 0.01639344262295082,\n",
       " 'subset': 0.01639344262295082,\n",
       " 'around': 0.01639344262295082,\n",
       " 'left': 0.01639344262295082,\n",
       " 'court.': 0.01639344262295082}"
      ]
     },
     "execution_count": 19,
     "metadata": {},
     "output_type": "execute_result"
    }
   ],
   "source": [
    "a6"
   ]
  },
  {
   "cell_type": "code",
   "execution_count": 20,
   "metadata": {},
   "outputs": [
    {
     "data": {
      "text/plain": [
       "{'When': 5.9546,\n",
       " 'the': 3.3696,\n",
       " 'defendant': 5.9546,\n",
       " 'and': 4.9546,\n",
       " 'his': 5.9546,\n",
       " 'lawyer': 5.9546,\n",
       " 'walked': 5.9546,\n",
       " 'into': 5.9546,\n",
       " 'court,': 5.9546,\n",
       " 'some': 4.9546,\n",
       " 'of': 4.3696,\n",
       " 'victim': 4.3696,\n",
       " 'supporters': 4.3696,\n",
       " 'turned': 4.3696,\n",
       " 'their': 4.9546,\n",
       " 'backs': 4.9546,\n",
       " 'on': 5.9546,\n",
       " 'him.': 5.9546,\n",
       " 'if': 5.9546,\n",
       " 'we': 4.9546,\n",
       " 'have': 4.9546,\n",
       " 'more': 4.3696,\n",
       " 'data': 5.9546,\n",
       " 'then': 4.9546,\n",
       " 'it': 5.9546,\n",
       " 'will': 5.9546,\n",
       " 'be': 5.9546,\n",
       " 'interesting': 5.9546,\n",
       " 'because': 5.9546,\n",
       " 'chance': 5.9546,\n",
       " 'to': 5.9546,\n",
       " 'repeat': 5.9546,\n",
       " 'bigrams.': 5.9546,\n",
       " 'After': 5.9546,\n",
       " 'a': 5.9546,\n",
       " 'subset': 5.9546,\n",
       " 'around': 5.9546,\n",
       " 'left': 5.9546,\n",
       " 'court.': 5.9546}"
      ]
     },
     "execution_count": 20,
     "metadata": {},
     "output_type": "execute_result"
    }
   ],
   "source": [
    "u"
   ]
  },
  {
   "cell_type": "code",
   "execution_count": 21,
   "metadata": {},
   "outputs": [
    {
     "data": {
      "text/plain": [
       "{'When': 3.3696,\n",
       " 'the': 3.3696,\n",
       " 'defendant': 4.9546,\n",
       " 'and': 4.9546,\n",
       " 'his': 5.9546,\n",
       " 'lawyer': 5.9546,\n",
       " 'walked': 5.9546,\n",
       " 'into': 5.9546,\n",
       " 'court,': 4.9546,\n",
       " 'some': 4.9546,\n",
       " 'of': 4.3696,\n",
       " 'victim': 4.3696,\n",
       " 'supporters': 4.3696,\n",
       " 'turned': 4.3696,\n",
       " 'their': 4.9546,\n",
       " 'backs': 3.9546,\n",
       " 'on': 5.9546,\n",
       " 'him.': 5.9546,\n",
       " 'if': 4.9546,\n",
       " 'we': 4.9546,\n",
       " 'have': 4.3696,\n",
       " 'more': 4.3696,\n",
       " 'data': 4.9546,\n",
       " 'then': 4.9546,\n",
       " 'it': 5.9546,\n",
       " 'will': 5.9546,\n",
       " 'be': 5.9546,\n",
       " 'interesting': 5.9546,\n",
       " 'because': 5.9546,\n",
       " 'chance': 5.9546,\n",
       " 'to': 5.9546,\n",
       " 'repeat': 5.9546,\n",
       " 'bigrams.': 5.9546,\n",
       " 'After': 5.9546,\n",
       " 'a': 5.9546,\n",
       " 'subset': 5.9546,\n",
       " 'around': 5.9546,\n",
       " 'left': 5.9546,\n",
       " 'court.': 5.9546}"
      ]
     },
     "execution_count": 21,
     "metadata": {},
     "output_type": "execute_result"
    }
   ],
   "source": [
    "v"
   ]
  },
  {
   "cell_type": "code",
   "execution_count": null,
   "metadata": {},
   "outputs": [],
   "source": []
  }
 ],
 "metadata": {
  "kernelspec": {
   "display_name": "Python 3",
   "language": "python",
   "name": "python3"
  },
  "language_info": {
   "codemirror_mode": {
    "name": "ipython",
    "version": 3
   },
   "file_extension": ".py",
   "mimetype": "text/x-python",
   "name": "python",
   "nbconvert_exporter": "python",
   "pygments_lexer": "ipython3",
   "version": "3.7.3"
  }
 },
 "nbformat": 4,
 "nbformat_minor": 2
}
