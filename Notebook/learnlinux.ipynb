{
 "cells": [
  {
   "cell_type": "markdown",
   "metadata": {},
   "source": [
    "在Linux系统中，有下面5种进程名称。\n",
    "\n",
    "    R（运行）：进程正在运行或在运行队列中等待。\n",
    "\n",
    "    S（中断）：进程处于休眠中，当某个条件形成后或者接收到信号时，则脱离该状态。\n",
    "\n",
    "    D（不可中断）：进程不响应系统异步信号，即便用kill命令也不能将其中断。\n",
    "\n",
    "    Z（僵死）：进程已经终止，但进程描述符依然存在, 直到父进程调用wait4()系统函数后将进程释放。\n",
    "\n",
    "    T（停止）：进程收到停止信号后停止运行。\n",
    "\n",
    "4个最常用的转义字符如下所示。\n",
    "\n",
    "    反斜杠（\\）：使反斜杠后面的一个变量变为单纯的字符串。\n",
    "\n",
    "    单引号（''）：转义其中所有的变量为单纯的字符串。\n",
    "\n",
    "    双引号（\"\"）：保留其中的变量属性，不进行转义处理。\n",
    "\n",
    "    反引号（``）：把其中的命令执行后返回结果。"
   ]
  },
  {
   "cell_type": "code",
   "execution_count": null,
   "metadata": {},
   "outputs": [],
   "source": [
    "dsalfds;=aad"
   ]
  }
 ],
 "metadata": {
  "kernelspec": {
   "display_name": "Python 3",
   "language": "python",
   "name": "python3"
  },
  "language_info": {
   "codemirror_mode": {
    "name": "ipython",
    "version": 3
   },
   "file_extension": ".py",
   "mimetype": "text/x-python",
   "name": "python",
   "nbconvert_exporter": "python",
   "pygments_lexer": "ipython3",
   "version": "3.7.2"
  }
 },
 "nbformat": 4,
 "nbformat_minor": 2
}
