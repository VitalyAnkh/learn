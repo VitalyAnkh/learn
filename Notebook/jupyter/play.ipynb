{
 "cells": [
  {
   "cell_type": "code",
   "execution_count": 2,
   "metadata": {},
   "outputs": [
    {
     "name": "stderr",
     "output_type": "stream",
     "text": [
      "Building prefix dict from the default dictionary ...\n",
      "Dumping model to file cache /tmp/jieba.cache\n",
      "Loading model cost 0.564 seconds.\n",
      "Prefix dict has been built successfully.\n"
     ]
    }
   ],
   "source": [
    "import jieba\n",
    "f = open(\"格力热水器.txt\",'r',encoding='UTF-8')\n",
    "text = f.read()\n",
    "word_list = jieba.lcut(text)\n",
    "f.close()"
   ]
  },
  {
   "cell_type": "code",
   "execution_count": 3,
   "metadata": {},
   "outputs": [],
   "source": [
    "counts={}\n",
    "for word in word_list:\n",
    "    if len(word)==1:\n",
    "        continue\n",
    "    else:\n",
    "        counts[word]=counts.get(word,0)+1\n",
    "\n",
    "items = list(counts.items())\n",
    "items.sort(key=lambda x:x[1], reverse=True)"
   ]
  },
  {
   "cell_type": "code",
   "execution_count": 4,
   "metadata": {},
   "outputs": [
    {
     "name": "stdout",
     "output_type": "stream",
     "text": [
      "我们         2855\n",
      "格力          927\n",
      "服务          918\n",
      "安装          878\n",
      "产品          765\n",
      "支持          684\n",
      "感谢您         637\n",
      "满意          630\n",
      "期待          501\n",
      "愉快          451\n",
      "生活          442\n",
      "评价          436\n",
      "使用          435\n",
      "外观          434\n",
      "光临          425\n"
     ]
    }
   ],
   "source": [
    "for i in range(15):\n",
    "    word, count = items[i]\n",
    "    print(\"{0:<10}{1:>5}\".format(word,count))"
   ]
  },
  {
   "cell_type": "code",
   "execution_count": 5,
   "metadata": {},
   "outputs": [],
   "source": [
    "# 接下来做词云\n",
    "import os\n",
    "import wordcloud"
   ]
  },
  {
   "cell_type": "code",
   "execution_count": 7,
   "metadata": {},
   "outputs": [],
   "source": [
    "def getText(file):\n",
    "    with open(file, 'r', encoding='UTF-8') as text:\n",
    "        text=text.read()\n",
    "        jieba.lcut(text)\n",
    "    return text"
   ]
  },
  {
   "cell_type": "code",
   "execution_count": 10,
   "metadata": {},
   "outputs": [
    {
     "name": "stdout",
     "output_type": "stream",
     "text": [
      "格力热水器\n"
     ]
    }
   ],
   "source": [
    "dir_name=os.getcwd()\n",
    "file_name=input()"
   ]
  },
  {
   "cell_type": "code",
   "execution_count": 12,
   "metadata": {},
   "outputs": [],
   "source": [
    "text=getText(file_name+\".txt\")\n",
    "wordclouds = wordcloud.WordCloud(width=1000, height=800, margin=2).generate(text)"
   ]
  },
  {
   "cell_type": "code",
   "execution_count": 16,
   "metadata": {},
   "outputs": [
    {
     "data": {
      "text/plain": [
       "32512"
      ]
     },
     "execution_count": 16,
     "metadata": {},
     "output_type": "execute_result"
    }
   ],
   "source": [
    "wordclouds.to_file(\"{}.png\".format(file_name))\n",
    "os.system(\"{}.png\".format(file_name))"
   ]
  },
  {
   "cell_type": "code",
   "execution_count": 18,
   "metadata": {},
   "outputs": [
    {
     "data": {
      "text/plain": [
       "<wordcloud.wordcloud.WordCloud at 0x7f1a9f633eb0>"
      ]
     },
     "execution_count": 18,
     "metadata": {},
     "output_type": "execute_result"
    }
   ],
   "source": [
    "wordclouds.to_file(\"长虹.png\")"
   ]
  },
  {
   "cell_type": "code",
   "execution_count": null,
   "metadata": {},
   "outputs": [],
   "source": []
  }
 ],
 "metadata": {
  "kernelspec": {
   "display_name": "Python 3",
   "language": "python",
   "name": "python3"
  },
  "language_info": {
   "codemirror_mode": {
    "name": "ipython",
    "version": 3
   },
   "file_extension": ".py",
   "mimetype": "text/x-python",
   "name": "python",
   "nbconvert_exporter": "python",
   "pygments_lexer": "ipython3",
   "version": "3.8.6"
  }
 },
 "nbformat": 4,
 "nbformat_minor": 4
}
