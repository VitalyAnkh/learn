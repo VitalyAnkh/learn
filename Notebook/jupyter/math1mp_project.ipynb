{
 "cells": [
  {
   "cell_type": "markdown",
   "metadata": {},
   "source": [
    "Before you turn this problem in, make sure everything runs as expected. First, **restart the kernel** (in the menubar, select Kernel$\\rightarrow$Restart) and then **run all cells** (in the menubar, select Cell$\\rightarrow$Run All).\n",
    "\n",
    "Make sure you fill in any place that says `YOUR CODE HERE` or \"YOUR ANSWER HERE\", as well as your name and collaborators below:"
   ]
  },
  {
   "cell_type": "code",
   "execution_count": 7,
   "metadata": {},
   "outputs": [],
   "source": [
    "NAME = \"Yue Liu\"\n",
    "COLLABORATORS = \"\""
   ]
  },
  {
   "cell_type": "markdown",
   "metadata": {},
   "source": [
    "---"
   ]
  },
  {
   "cell_type": "markdown",
   "metadata": {
    "deletable": false,
    "editable": false,
    "nbgrader": {
     "cell_type": "markdown",
     "checksum": "686dff811c2a418f6c5460bc95523666",
     "grade": false,
     "grade_id": "cell-292efff7fd7d8ff6",
     "locked": true,
     "schema_version": 3,
     "solution": false,
     "task": false
    }
   },
   "source": [
    "# Final Project Math 1MP3 SIR Models\n",
    "\n",
    "Submit your project as a Jupyter notebook file called `yourmacid_project.ipynb`, where `yourmacid` is replaced with your MacID from your McMaster email address. (For example: since my McMaster email address is pocucan@mcmaster.ca, I would submit a file called `pocucan_project.ipynb`.) Submit this file to the appropriate MacDrive link by **June 16th 11:59pm**\n",
    "\n",
    "To complete your project, edit the function definitions in this template (then rename the file appropriately, as above). (Don't forget to use appropriate `return()` statements in your functions!) **Do not alter any other part of this template.**\n",
    "\n",
    "While developing and testing your code, it might be helpful to use\n",
    "`print` statements, but please remove them before submitting your solution. \n",
    "You should make sure you use`return`, instead of `print` to actually return things out of a function.  \n",
    "The template contains several `assert` statements that when executed will test your code.\n",
    "\n",
    "Any file submitted for grading that does not conform to the specifications above will lead to a grade of zero on the assignment.\n",
    "\n",
    "Before submitting your solution, you should make sure that it runs properly. To do this, you can open it in the Jupyter notebook server that comes installed with Anaconda, or you can use the McMaster Jupyter server, by going to the website https://mcmaster.syzygy.ca/. (Try running `Kernel > Restart & Aun all` from the menu to run all of your code from scratch and make sure nothing is left out.) Feel free to use the Spyder IDE, or some other IDE, to develop your code before entering it into the Jupyter notebook that you submit.\n",
    "\n",
    "Your grade for each question will depend on whether or not your code correctly handles not just the test cases provided in the template, but other test cases that will be run on your solutions.\n",
    "\n",
    "Do not leave this project until the last minute; last-minute computer/internet issues on your part are your problem, not ours ...\n",
    "\n",
    "Late project will be penalized 25% per day.\n",
    "\n",
    "All work submitted for grading must be your own. You may discuss homework problems and related material with other students, but you must not submit work copied from others or from the internet.  If you use any internet resources for help, you **must** list them as comments (#) in your answer. "
   ]
  },
  {
   "cell_type": "markdown",
   "metadata": {
    "deletable": false,
    "editable": false,
    "nbgrader": {
     "cell_type": "markdown",
     "checksum": "4467285f01b95a891b64ddd74cd2acc1",
     "grade": false,
     "grade_id": "cell-1ef22d9ed29afac2",
     "locked": true,
     "schema_version": 3,
     "solution": false,
     "task": false
    }
   },
   "source": [
    "# Modelling Death with COVID 19\n",
    "\n",
    "So far, the SIR models I have showed you do not account for the situations where you would die from the corona virus. Using the following differential equations, we will use Euler's method to analyze the number of deaths. Let $S$ denote the susceptible population, $I$ denote the infected, $R$ the recovered, and $D$ for dead. \n",
    "\n",
    "Use the following differential equations \n",
    "\n",
    "$$  \\frac{ \\partial S}{\\partial t} = -\\rho S I  $$\n",
    "$\\quad$\n",
    "$$ \\frac{ \\partial I}{\\partial t} = \\rho S I - \\gamma I - \\eta I $$\n",
    "$\\quad$\n",
    "$$ \\frac{ \\partial D}{\\partial t} = \\eta I  $$\n",
    "$\\quad$\n",
    "$$ \\frac{ \\partial R}{\\partial t} =  \\gamma I $$\n",
    "\n",
    "and model 100 days using Euler's method. Note that the recovery rate $\\gamma$ is the greek symbol called gamma, the death rate $\\eta$ is the greek symbol called eta, the infection rate $\\rho$ is rho."
   ]
  },
  {
   "cell_type": "code",
   "execution_count": 120,
   "metadata": {
    "deletable": false,
    "editable": false,
    "nbgrader": {
     "cell_type": "code",
     "checksum": "56a044f0c0ac77f6128020b5145fba23",
     "grade": false,
     "grade_id": "cell-2d531225a4c86d60",
     "locked": true,
     "schema_version": 3,
     "solution": false,
     "task": false
    }
   },
   "outputs": [],
   "source": [
    "# run these cells to load this package\n",
    "import numpy as np \n",
    "import matplotlib.pyplot as pyplot"
   ]
  },
  {
   "cell_type": "code",
   "execution_count": 121,
   "metadata": {
    "deletable": false,
    "nbgrader": {
     "cell_type": "code",
     "checksum": "20684941ea69d7e88b8629563b7cb3d1",
     "grade": false,
     "grade_id": "cell-db0590988c40609c",
     "locked": false,
     "schema_version": 3,
     "solution": true,
     "task": false
    }
   },
   "outputs": [],
   "source": [
    "def create_t():\n",
    "    \"\"\"A function that returns 1000 evenly spaced points between 0, and 100\"\"\"\n",
    "    t = np.linspace(0,100,1000)\n",
    "    return(t)"
   ]
  },
  {
   "cell_type": "code",
   "execution_count": 122,
   "metadata": {
    "deletable": false,
    "editable": false,
    "nbgrader": {
     "cell_type": "code",
     "checksum": "d8a799949f8c767ca2a64a0ee397d11c",
     "grade": true,
     "grade_id": "cell-6acfcd9e822bef23",
     "locked": true,
     "points": 1,
     "schema_version": 3,
     "solution": false,
     "task": false
    }
   },
   "outputs": [],
   "source": [
    "# test cell"
   ]
  },
  {
   "cell_type": "markdown",
   "metadata": {
    "deletable": false,
    "editable": false,
    "nbgrader": {
     "cell_type": "markdown",
     "checksum": "837855e2e99050638ff8914bff82e99f",
     "grade": false,
     "grade_id": "cell-18b9f275c5f2488e",
     "locked": true,
     "schema_version": 3,
     "solution": false,
     "task": false
    }
   },
   "source": [
    "Next please create all of the differential equation functions in the following cell:  "
   ]
  },
  {
   "cell_type": "code",
   "execution_count": 123,
   "metadata": {
    "deletable": false,
    "nbgrader": {
     "cell_type": "code",
     "checksum": "40f646c44f52df09e4b4877b48e066f1",
     "grade": false,
     "grade_id": "cell-4f631801be0db804",
     "locked": false,
     "schema_version": 3,
     "solution": true,
     "task": false
    }
   },
   "outputs": [],
   "source": [
    "def dS_dt(rho,t_i,S_i,I_i):\n",
    "    \"\"\"Differential equation for Susceptible Population, takes in \n",
    "    rho -> infection rate, float\n",
    "    t_i -> time at iteration i, float \n",
    "    S_i -> susceptible population at time i, float \n",
    "    I_i -> infect population time i float \n",
    "    \"\"\"\n",
    "    result = -rho*S_i*I_i\n",
    "    return(result)"
   ]
  },
  {
   "cell_type": "code",
   "execution_count": 124,
   "metadata": {
    "deletable": false,
    "nbgrader": {
     "cell_type": "code",
     "checksum": "7e3377dd9715700e856b0baaa53a1ee7",
     "grade": false,
     "grade_id": "cell-8752c6f3e30b5e36",
     "locked": false,
     "schema_version": 3,
     "solution": true,
     "task": false
    }
   },
   "outputs": [],
   "source": [
    "def dI_dt(rho,gamma,eta,t_i,S_i,I_i):\n",
    "    \"\"\"Differential equation for Infected Population, takes in \n",
    "    rho -> infection rate, float\n",
    "    gamma -> recovery rate, float \n",
    "    eta -> death rate, float \n",
    "    t_i -> time at iteration i, float \n",
    "    S_i -> susceptible population at time i, float \n",
    "    I_i -> infect population time i float \n",
    "    \"\"\"\n",
    "    result = rho*S_i*I_i - gamma*I_i - eta*I_i\n",
    "    return(result)"
   ]
  },
  {
   "cell_type": "code",
   "execution_count": 125,
   "metadata": {
    "deletable": false,
    "nbgrader": {
     "cell_type": "code",
     "checksum": "79409e0b11881aa02240f347eae264e8",
     "grade": false,
     "grade_id": "cell-6f3e70bc195c468f",
     "locked": false,
     "schema_version": 3,
     "solution": true,
     "task": false
    }
   },
   "outputs": [],
   "source": [
    "def dD_dt(eta,t_i,I_i):\n",
    "    \"\"\"Differential equation for Death Population, takes in \n",
    "    eta -> death rate, float \n",
    "    t_i -> time at iteration i, float \n",
    "    I_i -> infect population time i float \n",
    "    \"\"\"\n",
    "    result = eta*I_i\n",
    "    return(result)"
   ]
  },
  {
   "cell_type": "code",
   "execution_count": 126,
   "metadata": {
    "deletable": false,
    "nbgrader": {
     "cell_type": "code",
     "checksum": "b7c4defdfd0c7e6b32f112b761a7daf1",
     "grade": false,
     "grade_id": "cell-bfc8f3b6396b1a03",
     "locked": false,
     "schema_version": 3,
     "solution": true,
     "task": false
    }
   },
   "outputs": [],
   "source": [
    "def dR_dt(gamma,t_i,I_i):\n",
    "    \"\"\"Differential equation for Recovered Population, takes in \n",
    "    gamma -> recovery rate, float \n",
    "    t_i -> time at iteration i, float \n",
    "    I_i -> infect population time i float \n",
    "    \"\"\"\n",
    "    result = gamma*I_i\n",
    "    return(result)"
   ]
  },
  {
   "cell_type": "code",
   "execution_count": 127,
   "metadata": {
    "deletable": false,
    "editable": false,
    "nbgrader": {
     "cell_type": "code",
     "checksum": "3d30c106b11d357226cffe07b9384278",
     "grade": true,
     "grade_id": "cell-7451e2086f4aee1b",
     "locked": true,
     "points": 1,
     "schema_version": 3,
     "solution": false,
     "task": false
    }
   },
   "outputs": [],
   "source": [
    "# hidden tests beware!"
   ]
  },
  {
   "cell_type": "code",
   "execution_count": 128,
   "metadata": {
    "deletable": false,
    "editable": false,
    "nbgrader": {
     "cell_type": "code",
     "checksum": "c9cc075e6fdd0ca9ec2e88ee4f608917",
     "grade": true,
     "grade_id": "cell-6960d07eeefbe6a9",
     "locked": true,
     "points": 1,
     "schema_version": 3,
     "solution": false,
     "task": false
    }
   },
   "outputs": [],
   "source": [
    "# hidden tests beware!"
   ]
  },
  {
   "cell_type": "code",
   "execution_count": 129,
   "metadata": {
    "deletable": false,
    "editable": false,
    "nbgrader": {
     "cell_type": "code",
     "checksum": "cbb508fbf91e97f170c547552bad2f94",
     "grade": true,
     "grade_id": "cell-5b3c6bdbca6b9e25",
     "locked": true,
     "points": 1,
     "schema_version": 3,
     "solution": false,
     "task": false
    }
   },
   "outputs": [],
   "source": [
    "# hidden tests beware!"
   ]
  },
  {
   "cell_type": "code",
   "execution_count": 130,
   "metadata": {
    "deletable": false,
    "editable": false,
    "nbgrader": {
     "cell_type": "code",
     "checksum": "1f417e0ee01276aa109697517a753117",
     "grade": true,
     "grade_id": "cell-08aa2e567432facf",
     "locked": true,
     "points": 1,
     "schema_version": 3,
     "solution": false,
     "task": false
    }
   },
   "outputs": [],
   "source": [
    "# hidden tests beware!"
   ]
  },
  {
   "cell_type": "markdown",
   "metadata": {
    "deletable": false,
    "editable": false,
    "nbgrader": {
     "cell_type": "markdown",
     "checksum": "57e8dc2dc831f904618a1d20078e0e13",
     "grade": false,
     "grade_id": "cell-3b9acf905058e56a",
     "locked": true,
     "schema_version": 3,
     "solution": false,
     "task": false
    }
   },
   "source": [
    "Now that we have all our differential equations ready to go, we need to implement \n",
    "eulers method with our `model_pandemic` function. This function takes in the `S_o,I_o`, intial populations. These are the number of susceptible and infected. Note that these are either integer or float values. These must be greater than 0.\n",
    "\n",
    "Finally, this function must return `S`,`I`,`R`, and `D` populations as `np.array` types.\n",
    "\n",
    "If the number of Infected People is 0 at any point in time, then this function must break and return the corresponding values. \n",
    "\n",
    "If there is no one left to die, then this function must break and return the corresponding values. \n",
    "\n",
    "If there is no one left to recover, then this function must break and return the corresponding values. "
   ]
  },
  {
   "cell_type": "code",
   "execution_count": 154,
   "metadata": {
    "deletable": false,
    "nbgrader": {
     "cell_type": "code",
     "checksum": "7148e06aaa82f03270d17a861883236e",
     "grade": false,
     "grade_id": "cell-29755962373e8d9f",
     "locked": false,
     "schema_version": 3,
     "solution": true,
     "task": false
    }
   },
   "outputs": [],
   "source": [
    "def model_pandemic(S_o,I_o):\n",
    "    \"\"\" \n",
    "    Model pandemic function which uses euler's method to calculate S,I,R, and D populations.\n",
    "    \n",
    "    This function models up to 100 days.  *hint*. Use the create_t function\n",
    "    \n",
    "    The parameters have all been given to you already. \n",
    "    \"\"\"\n",
    "    # note for all intensive purposes, these parameters are fixed for this question, \n",
    "    # do not change this numbers or delete them. \n",
    "    rho = 0.001\n",
    "    gamma = 0.05\n",
    "    eta = 0.001 \n",
    "    t = np.linspace(0,100,1000)\n",
    "    h = t[1]-t[0]\n",
    "    \n",
    "    S = np.array([0])\n",
    "    I = np.array([0])\n",
    "    R = np.array([0])\n",
    "    D = np.array([0])\n",
    "    for i in range(len(t)):        \n",
    "        S_new = S[i] + h* dS_dt(rho,t[i],S[i],I[i])\n",
    "        I_new = I[i] + h* dI_dt(rho,gamma,eta,t[i],S[i],I[i])\n",
    "        R_new = R[i] + h* dD_dt(eta,t[i],I[i])\n",
    "        D_new = D[i] + h* dR_dt(gamma,t[i],I[i])\n",
    "        if S_new < 1:\n",
    "            S_new =0.0\n",
    "        if I_new < 1:\n",
    "            I_new =0.0\n",
    "            \n",
    "        S = np.append(S, S_new)\n",
    "        I = np.append(I, I_new)\n",
    "        R = np.append(R, R_new)\n",
    "        D = np.append(D, D_new)\n",
    "        if I_new < 1:\n",
    "            break\n",
    "    return (S,I,R,D)"
   ]
  },
  {
   "cell_type": "code",
   "execution_count": 155,
   "metadata": {
    "deletable": false,
    "editable": false,
    "nbgrader": {
     "cell_type": "code",
     "checksum": "a12bd90e293410cd8695a2618893d7bc",
     "grade": false,
     "grade_id": "cell-67b8067495f82398",
     "locked": true,
     "schema_version": 3,
     "solution": false,
     "task": false
    }
   },
   "outputs": [],
   "source": [
    "# Adjust the starting values here to answer each question below. \n",
    "S,I,R,D = model_pandemic(100,10)"
   ]
  },
  {
   "cell_type": "code",
   "execution_count": 157,
   "metadata": {
    "deletable": false,
    "editable": false,
    "nbgrader": {
     "cell_type": "code",
     "checksum": "e9b48a2d0c720876f524b05cf5330e49",
     "grade": false,
     "grade_id": "cell-f9f000648f00a61a",
     "locked": true,
     "schema_version": 3,
     "solution": false,
     "task": false
    }
   },
   "outputs": [
    {
     "data": {
      "text/plain": [
       "<matplotlib.legend.Legend at 0x7f8b3083f400>"
      ]
     },
     "execution_count": 157,
     "metadata": {},
     "output_type": "execute_result"
    },
    {
     "data": {
      "image/png": "[encoded data removed]",
      "text/plain": [
       "<Figure size 432x288 with 1 Axes>"
      ]
     },
     "metadata": {
      "needs_background": "light"
     },
     "output_type": "display_data"
    }
   ],
   "source": [
    "# plotting these results\n",
    "pyplot.plot(S,label = \"Susceptible\")\n",
    "pyplot.plot(I,label = \"Infected\")\n",
    "pyplot.plot(R,label = \"Recovered\")\n",
    "pyplot.plot(D,label = \"Dead\")\n",
    "pyplot.legend()"
   ]
  },
  {
   "cell_type": "code",
   "execution_count": 160,
   "metadata": {
    "deletable": false,
    "nbgrader": {
     "cell_type": "code",
     "checksum": "c02b52741ef48970b00cba01a49d0d50",
     "grade": false,
     "grade_id": "cell-6f0f21ba093f0743",
     "locked": false,
     "schema_version": 3,
     "solution": true,
     "task": false
    }
   },
   "outputs": [],
   "source": [
    "def question_1():\n",
    "    \"\"\"\n",
    "    If I increase the number of starting infected cases, does the curve flatten? \n",
    "    \n",
    "    answer = \"Yes\"\n",
    "    # or \n",
    "    answer = \"No\"\n",
    "    \"\"\"\n",
    "    answer = \"No\"\n",
    "    return(answer)"
   ]
  },
  {
   "cell_type": "code",
   "execution_count": 161,
   "metadata": {
    "deletable": false,
    "editable": false,
    "nbgrader": {
     "cell_type": "code",
     "checksum": "bd27cf5af21069c8b87ee90060294d30",
     "grade": true,
     "grade_id": "cell-e20a9d1e49a479e6",
     "locked": true,
     "points": 1,
     "schema_version": 3,
     "solution": false,
     "task": false
    }
   },
   "outputs": [
    {
     "data": {
      "text/plain": [
       "'No'"
      ]
     },
     "execution_count": 161,
     "metadata": {},
     "output_type": "execute_result"
    }
   ],
   "source": [
    "question_1() # make sure this runs"
   ]
  },
  {
   "cell_type": "code",
   "execution_count": 162,
   "metadata": {
    "deletable": false,
    "nbgrader": {
     "cell_type": "code",
     "checksum": "04879e4d9737f30b505b334085944e98",
     "grade": false,
     "grade_id": "cell-18401121d668d367",
     "locked": false,
     "schema_version": 3,
     "solution": true,
     "task": false
    }
   },
   "outputs": [],
   "source": [
    "def question_2():\n",
    "    \"\"\"\n",
    "    If I have the same initial values for the infected and susceptible cases, \n",
    "    the number of dead could exceed the number of susceptible. \n",
    "    \n",
    "    answer = \"Yes\"\n",
    "    # or \n",
    "    answer = \"No\"\n",
    "    \"\"\"\n",
    "    answer = \"No\"\n",
    "    return(answer)"
   ]
  },
  {
   "cell_type": "code",
   "execution_count": 163,
   "metadata": {
    "deletable": false,
    "editable": false,
    "nbgrader": {
     "cell_type": "code",
     "checksum": "1818a3740946acab8728bb44d2ee5257",
     "grade": true,
     "grade_id": "cell-a6eed06e860f5c0c",
     "locked": true,
     "points": 2,
     "schema_version": 3,
     "solution": false,
     "task": false
    }
   },
   "outputs": [
    {
     "data": {
      "text/plain": [
       "'No'"
      ]
     },
     "execution_count": 163,
     "metadata": {},
     "output_type": "execute_result"
    }
   ],
   "source": [
    "# beware of test\n",
    "question_2() # make sure this compiles"
   ]
  },
  {
   "cell_type": "code",
   "execution_count": 164,
   "metadata": {
    "deletable": false,
    "nbgrader": {
     "cell_type": "code",
     "checksum": "7cf705454f4e02f49071a0261d18d029",
     "grade": false,
     "grade_id": "cell-2c1098978b255be1",
     "locked": false,
     "schema_version": 3,
     "solution": true,
     "task": false
    }
   },
   "outputs": [],
   "source": [
    "def question_3():\n",
    "    \"\"\"\n",
    "    For starting values S_o = 100, and I_o = 400, when does the recovered\n",
    "    population approximetly exceed the susceptible population? \n",
    "    \n",
    "    Note, this is an integer number. So write \n",
    "    answer = 2 if you think it should be 2. \n",
    "    \n",
    "    \"\"\"\n",
    "    \n",
    "    return(answer)"
   ]
  },
  {
   "cell_type": "code",
   "execution_count": null,
   "metadata": {
    "deletable": false,
    "editable": false,
    "nbgrader": {
     "cell_type": "code",
     "checksum": "b085a2026c42783371dad64558b63089",
     "grade": true,
     "grade_id": "cell-c26851acc3534f08",
     "locked": true,
     "points": 2,
     "schema_version": 3,
     "solution": false,
     "task": false
    }
   },
   "outputs": [],
   "source": [
    "# beware of test\n",
    "question_3() # make sure this runs"
   ]
  },
  {
   "cell_type": "markdown",
   "metadata": {
    "deletable": false,
    "editable": false,
    "nbgrader": {
     "cell_type": "markdown",
     "checksum": "4902eb61e5ae32f873fa2f9e57822e68",
     "grade": false,
     "grade_id": "cell-9cb77842866d8ff7",
     "locked": true,
     "schema_version": 3,
     "solution": false,
     "task": false
    }
   },
   "source": [
    "Now that you have answered the most basic questions about the SIR models, we will now take a look at when a vaccine is in effect. \n",
    "\n",
    "Suppose that a vaccine is developed 25 days into the pandemic, therefore the form of the differential equations for $S$ and $R$ must change to: \n",
    "\n",
    "\n",
    "\n",
    "\n",
    "$$  \\frac{ \\partial S}{\\partial t} = -\\rho S I - \\beta S * \\delta(t > 25) $$\n",
    "$\\quad$\n",
    "$$ \\frac{ \\partial R}{\\partial t} =  \\gamma I + \\beta S * \\delta(t > 25)$$\n",
    "\n",
    "Here: $\\beta$ is a cure rate, or the rate at which we can distribute the vaccine to the susceptible population. \n",
    "\n",
    "Then we have $\\delta$. This is an indicator function that checks whether or not $t$ is greater than 25. If it is, this function returns 1, if it isn't this function returns 0. \n",
    "\n",
    "Notice how if the indicator function is 0, the cure rate portion of the model is removed, and we have the original differential equation that we had previously!\n",
    "\n",
    "\n",
    "Beyond 25 days, we have the vaccine, and therefore our differential equation function changes!\n",
    "\n",
    "\n",
    "We can generalize this function to have some arbitrary $v_t$ time, as in vaccine time, to symbolize the time a vaccine is found as: \n",
    "\n",
    "\n",
    "\n",
    "$$  \\frac{ \\partial S}{\\partial t} = -\\rho S I - \\beta S * \\delta(t > v_t) $$\n",
    "$\\quad$\n",
    "$$ \\frac{ \\partial R}{\\partial t} =  \\gamma I + \\beta S * \\delta(t > v_t)$$\n",
    "\n",
    "\n",
    "\n",
    "We are going to code our own indicator function `delta` that takes in float values `t_i`, `v_t`, and returns 1 or 0, based on the cutoff rate `v_t`. "
   ]
  },
  {
   "cell_type": "code",
   "execution_count": 202,
   "metadata": {
    "deletable": false,
    "nbgrader": {
     "cell_type": "code",
     "checksum": "df9237aab7fbbfb0587b27321bc1d03d",
     "grade": false,
     "grade_id": "cell-f3943a31aceeef73",
     "locked": false,
     "schema_version": 3,
     "solution": true,
     "task": false
    }
   },
   "outputs": [],
   "source": [
    "def delta(t_i,v_t):\n",
    "    \"\"\" check to see if time t_i has exceeded v_t  \"\"\"\n",
    "    if t_i >= v_t:\n",
    "        return 1\n",
    "    if t_i < v_t:\n",
    "        return 0\n",
    "        return (check)"
   ]
  },
  {
   "cell_type": "code",
   "execution_count": 203,
   "metadata": {
    "deletable": false,
    "editable": false,
    "nbgrader": {
     "cell_type": "code",
     "checksum": "0f01c3463f38c609496ab9ef6eab7cc5",
     "grade": true,
     "grade_id": "cell-0602a151c1e6402d",
     "locked": true,
     "points": 1,
     "schema_version": 3,
     "solution": false,
     "task": false
    }
   },
   "outputs": [],
   "source": [
    "assert delta(50,20) == True"
   ]
  },
  {
   "cell_type": "code",
   "execution_count": 197,
   "metadata": {
    "deletable": false,
    "editable": false,
    "nbgrader": {
     "cell_type": "code",
     "checksum": "80468cf276d3af14ef87fa968b6de479",
     "grade": false,
     "grade_id": "cell-a6c622174aed7d9b",
     "locked": true,
     "schema_version": 3,
     "solution": false,
     "task": false
    }
   },
   "outputs": [],
   "source": [
    "# next we need to make an adjustment to the following functions!"
   ]
  },
  {
   "cell_type": "code",
   "execution_count": 255,
   "metadata": {
    "deletable": false,
    "nbgrader": {
     "cell_type": "code",
     "checksum": "a664b20556e2a17a4db1974c4198269f",
     "grade": false,
     "grade_id": "cell-b23408b8219b3c17",
     "locked": false,
     "schema_version": 3,
     "solution": true,
     "task": false
    }
   },
   "outputs": [],
   "source": [
    "def dSV_dt(rho,beta,t_i,v_t,S_i,I_i):\n",
    "    \"\"\"Differential equation for Susceptible Population, takes in \n",
    "    rho -> infection rate, float\n",
    "    beta -> cure rate, float \n",
    "    v_t -> vaccine time, float\n",
    "    t_i -> time at iteration i, float \n",
    "    S_i -> susceptible population at time i, float \n",
    "    I_i -> infect population time i float \n",
    "    \"\"\"\n",
    "    result = -rho*S_i*I_i - beta*S_i*delta(t_i , v_t)  \n",
    "    return(result)"
   ]
  },
  {
   "cell_type": "code",
   "execution_count": 259,
   "metadata": {
    "deletable": false,
    "nbgrader": {
     "cell_type": "code",
     "checksum": "fc184214301db48812872fd197a7e76f",
     "grade": false,
     "grade_id": "cell-80ed671f63019fdc",
     "locked": false,
     "schema_version": 3,
     "solution": true,
     "task": false
    }
   },
   "outputs": [],
   "source": [
    "def dRV_dt(gamma,beta,t_i,v_t,I_i,S_i):\n",
    "    \"\"\"Differential equation for Recovered Population, takes in \n",
    "    gamma -> recovery rate, float\n",
    "    beta -> cure rate, float \n",
    "    t_i -> time at iteration i, float \n",
    "    I_i -> infect population time i float \n",
    "    \"\"\"\n",
    "    result = gamma*I_i + beta*S_i*delta(t_i , v_t) \n",
    "    return(result)"
   ]
  },
  {
   "cell_type": "code",
   "execution_count": null,
   "metadata": {
    "deletable": false,
    "editable": false,
    "nbgrader": {
     "cell_type": "code",
     "checksum": "e6b889f662f44b48dc6dfda14223714b",
     "grade": true,
     "grade_id": "cell-3a3a8ff215396566",
     "locked": true,
     "points": 1,
     "schema_version": 3,
     "solution": false,
     "task": false
    }
   },
   "outputs": [],
   "source": []
  },
  {
   "cell_type": "code",
   "execution_count": null,
   "metadata": {
    "deletable": false,
    "editable": false,
    "nbgrader": {
     "cell_type": "code",
     "checksum": "a077f4f5db28a12de99697f3a9c6c9bf",
     "grade": true,
     "grade_id": "cell-61ac8f5d192d8c6f",
     "locked": true,
     "points": 1,
     "schema_version": 3,
     "solution": false,
     "task": false
    }
   },
   "outputs": [],
   "source": []
  },
  {
   "cell_type": "code",
   "execution_count": null,
   "metadata": {
    "deletable": false,
    "editable": false,
    "nbgrader": {
     "cell_type": "code",
     "checksum": "081ae9432aee3cfacc5f52b0c86ebc73",
     "grade": true,
     "grade_id": "cell-b190012d1a56991b",
     "locked": true,
     "points": 1,
     "schema_version": 3,
     "solution": false,
     "task": false
    }
   },
   "outputs": [],
   "source": []
  },
  {
   "cell_type": "code",
   "execution_count": null,
   "metadata": {
    "deletable": false,
    "editable": false,
    "nbgrader": {
     "cell_type": "code",
     "checksum": "1c955221c0c7b2592e167358fbe6e723",
     "grade": true,
     "grade_id": "cell-b5f3c3b90294696a",
     "locked": true,
     "points": 1,
     "schema_version": 3,
     "solution": false,
     "task": false
    }
   },
   "outputs": [],
   "source": []
  },
  {
   "cell_type": "code",
   "execution_count": 273,
   "metadata": {
    "deletable": false,
    "nbgrader": {
     "cell_type": "code",
     "checksum": "c737de3dea1bdbfcb4ae2efae54c0912",
     "grade": false,
     "grade_id": "cell-e4d7f84230935d5a",
     "locked": false,
     "schema_version": 3,
     "solution": true,
     "task": false
    }
   },
   "outputs": [],
   "source": [
    "def model_pandemic(S_o,I_o,v_t):\n",
    "    \"\"\" \n",
    "    Model pandemic function which uses euler's method to calculate S,I,R, and D populations.\n",
    "    \n",
    "    This function models up to 100 days.  *hint*. Use the create_t function\n",
    "    \n",
    "    The parameters have all been given to you already. \n",
    "    \n",
    "    with changed differential equations!\n",
    "    \"\"\"\n",
    "    # note for all intensive purposes, these parameters are fixed for this question, \n",
    "    # do not change this numbers or delete them. \n",
    "    rho = 0.001 # infection rate\n",
    "    gamma = 0.05 # recovery rate\n",
    "    eta = 0.001 # death rate\n",
    "    beta = 0.025 # cure rate\n",
    "    def create_t():\n",
    "        t = np.linspace(0,100,1000)\n",
    "        return (t)\n",
    "        \n",
    "        h = t[1]-t[0]\n",
    "        S = np.array([0])\n",
    "        I = np.array([0])\n",
    "        R = np.array([0])\n",
    "        D = np.array([0])\n",
    "        for i in range(len(t)):        \n",
    "            S_new = S[i] + h* dSV_dt(rho,beta,t[i],v_t,S[i],I[i])\n",
    "            I_new = I[i] + h* dI_dt(rho,gamma,eta,t[i],S[i],I[i])\n",
    "            R_new = R[i] + h* dD_dt(eta,t[i],I[i])\n",
    "            D_new = D[i] + h* dRV_dt(gamma,beta,t[i],v_t,I[i],S[i])\n",
    "            #if S_new < 1:\n",
    "                #S_new =0.0\n",
    "            #if I_new < 1:\n",
    "                #I_new =0.0\n",
    "\n",
    "            S = np.append(S, S_new)\n",
    "            I = np.append(I, I_new)\n",
    "            R = np.append(R, R_new)\n",
    "            D = np.append(D, D_new)\n",
    "            #if I_new < 1:\n",
    "               # break\n",
    "    return (S,I,R,D)"
   ]
  },
  {
   "cell_type": "code",
   "execution_count": 274,
   "metadata": {
    "deletable": false,
    "editable": false,
    "nbgrader": {
     "cell_type": "code",
     "checksum": "9aba55b64ec941a0fde93593452fa024",
     "grade": true,
     "grade_id": "cell-c7cf13128925243f",
     "locked": true,
     "points": 1,
     "schema_version": 3,
     "solution": false,
     "task": false
    }
   },
   "outputs": [],
   "source": [
    "# Adjust the starting values here to answer each question below. \n",
    "S,I,R,D = model_pandemic(100,10,25)"
   ]
  },
  {
   "cell_type": "code",
   "execution_count": 275,
   "metadata": {
    "deletable": false,
    "editable": false,
    "nbgrader": {
     "cell_type": "code",
     "checksum": "9af01370877d85ab493f64d18b1cb689",
     "grade": false,
     "grade_id": "cell-68464a60078026af",
     "locked": true,
     "schema_version": 3,
     "solution": false,
     "task": false
    }
   },
   "outputs": [
    {
     "data": {
      "text/plain": [
       "<matplotlib.legend.Legend at 0x7f8b3058add8>"
      ]
     },
     "execution_count": 275,
     "metadata": {},
     "output_type": "execute_result"
    },
    {
     "data": {
      "image/png": "[encoded data removed]",
      "text/plain": [
       "<Figure size 432x288 with 1 Axes>"
      ]
     },
     "metadata": {
      "needs_background": "light"
     },
     "output_type": "display_data"
    }
   ],
   "source": [
    "# plotting these results\n",
    "s_t = len(S[1:]) \n",
    "pyplot.plot(create_t()[0:s_t],S[1:],label = \"Susceptible\")\n",
    "pyplot.plot(create_t()[0:s_t],I[1:],label = \"Infected\")\n",
    "pyplot.plot(create_t()[0:s_t],R[1:],label = \"Recovered\")\n",
    "pyplot.plot(create_t()[0:s_t],D[1:],label = \"Dead\")\n",
    "pyplot.legend()"
   ]
  },
  {
   "cell_type": "code",
   "execution_count": null,
   "metadata": {
    "deletable": false,
    "nbgrader": {
     "cell_type": "code",
     "checksum": "6eefe4a0654a8cb891f9695f288908a2",
     "grade": false,
     "grade_id": "cell-3f4dc0bcf517e27b",
     "locked": false,
     "schema_version": 3,
     "solution": true,
     "task": false
    }
   },
   "outputs": [],
   "source": [
    "def question_4():\n",
    "    \"\"\"\n",
    "    For starting values S_o = 100, and I_o = 10, and v_t = 17, \n",
    "    when does the number of recovered exceed the number of infected?\n",
    "    \n",
    "    Note, this is an integer number. So write \n",
    "    answer = 2 if you think it should be 2. \n",
    "    \n",
    "    \"\"\"\n",
    "    # YOUR CODE HERE\n",
    "    raise NotImplementedError()\n",
    "    return(answer)"
   ]
  },
  {
   "cell_type": "code",
   "execution_count": null,
   "metadata": {
    "deletable": false,
    "nbgrader": {
     "cell_type": "code",
     "checksum": "65a18a4a066f5d75cea547da4938cf74",
     "grade": false,
     "grade_id": "cell-2e00b4e5fa3c8b14",
     "locked": false,
     "schema_version": 3,
     "solution": true,
     "task": false
    }
   },
   "outputs": [],
   "source": [
    "def question_5():\n",
    "    \"\"\"\n",
    "    For starting values S_o = 100, and I_o = 10, and v_t = 37, \n",
    "    when does the number of recovered exceed the number of susceptible?\n",
    "    \n",
    "    Note, this is an integer number. So write \n",
    "    answer = 2 if you think it should be 2. \n",
    "    \n",
    "    \"\"\"\n",
    "    # YOUR CODE HERE\n",
    "    raise NotImplementedError()\n",
    "    return(answer)"
   ]
  },
  {
   "cell_type": "code",
   "execution_count": null,
   "metadata": {
    "deletable": false,
    "nbgrader": {
     "cell_type": "code",
     "checksum": "5316b02fa39b2ac4658bc1ebc28f86f8",
     "grade": false,
     "grade_id": "cell-871dc8ec390cbde4",
     "locked": false,
     "schema_version": 3,
     "solution": true,
     "task": false
    }
   },
   "outputs": [],
   "source": [
    "def question_6():\n",
    "    \"\"\"\n",
    "    For starting values S_o = 100, and I_o = 10, and v_t = 37, \n",
    "    The number of susceptible at some time t, drops below the number of infected. \n",
    "    \n",
    "    Note, this is a boolean. So write \n",
    "    answer = False if you think it should be False. \n",
    "    \n",
    "    \"\"\"\n",
    "    # YOUR CODE HERE\n",
    "    raise NotImplementedError()\n",
    "    return(answer)"
   ]
  },
  {
   "cell_type": "code",
   "execution_count": null,
   "metadata": {
    "deletable": false,
    "editable": false,
    "nbgrader": {
     "cell_type": "code",
     "checksum": "36b9281bdb78dec0e6ccd72802b4ae47",
     "grade": false,
     "grade_id": "cell-143819dc4f91a950",
     "locked": true,
     "schema_version": 3,
     "solution": false,
     "task": false
    }
   },
   "outputs": [],
   "source": [
    "# run this cell to make sure your functions compile\n",
    "question_4()\n",
    "question_5()\n",
    "question_6()"
   ]
  },
  {
   "cell_type": "code",
   "execution_count": null,
   "metadata": {
    "deletable": false,
    "editable": false,
    "nbgrader": {
     "cell_type": "code",
     "checksum": "cf8d44fcade7835c82de7bd3ba58e778",
     "grade": true,
     "grade_id": "cell-1eb17e9b0089c805",
     "locked": true,
     "points": 1,
     "schema_version": 3,
     "solution": false,
     "task": false
    }
   },
   "outputs": [],
   "source": []
  },
  {
   "cell_type": "code",
   "execution_count": null,
   "metadata": {
    "deletable": false,
    "editable": false,
    "nbgrader": {
     "cell_type": "code",
     "checksum": "0102306e6a43f670c011bf7beca3b4f9",
     "grade": true,
     "grade_id": "cell-bba4e0791b6efbb9",
     "locked": true,
     "points": 1,
     "schema_version": 3,
     "solution": false,
     "task": false
    }
   },
   "outputs": [],
   "source": []
  },
  {
   "cell_type": "code",
   "execution_count": null,
   "metadata": {
    "deletable": false,
    "editable": false,
    "nbgrader": {
     "cell_type": "code",
     "checksum": "8f583d267116ce372c3ce0d7fb8dae51",
     "grade": true,
     "grade_id": "cell-bd354027d1bc0f12",
     "locked": true,
     "points": 1,
     "schema_version": 3,
     "solution": false,
     "task": false
    }
   },
   "outputs": [],
   "source": []
  },
  {
   "cell_type": "markdown",
   "metadata": {
    "deletable": false,
    "editable": false,
    "nbgrader": {
     "cell_type": "markdown",
     "checksum": "82da2deb62e1c54c01aeccabdf3dd573",
     "grade": false,
     "grade_id": "cell-f84590a63aa8a8b2",
     "locked": true,
     "schema_version": 3,
     "solution": false,
     "task": false
    }
   },
   "source": [
    "Now we will model the pandemic using a probabilistic system, to do this, we will \n",
    "have to change the differential equations to include random variables\n",
    "Suppose our parameters are drawn from a random variable. At every step, we draw can draw\n",
    "$\\rho$ from an exponential distribution with rate parameter equal to $0.001$. Formally we write this as\n",
    "$$\\rho \\sim Exp(0.001) $$\n",
    "\n",
    "so at every step we draw a new infection rate from this distribution. We can use the \n",
    "`np.random.exp` function to do this. Lets create a function called `draw_rho` that takes in `rho` as an input and returns a random draw from this distribution. \n",
    "\n"
   ]
  },
  {
   "cell_type": "code",
   "execution_count": null,
   "metadata": {
    "deletable": false,
    "nbgrader": {
     "cell_type": "code",
     "checksum": "fd37b77325ce19758ec09389d3d21f33",
     "grade": false,
     "grade_id": "cell-0cda293fcec5e266",
     "locked": false,
     "schema_version": 3,
     "solution": true,
     "task": false
    }
   },
   "outputs": [],
   "source": [
    "def draw_rho(rho):\n",
    "    \"\"\" Takes in a rho parameter and draws from an exponential distribution \"\"\"\n",
    "    \n",
    "    return(result)"
   ]
  },
  {
   "cell_type": "code",
   "execution_count": null,
   "metadata": {
    "deletable": false,
    "editable": false,
    "nbgrader": {
     "cell_type": "code",
     "checksum": "a8f8bfef921960dd1a65ef36020d98ec",
     "grade": true,
     "grade_id": "cell-c51aa57faf1995aa",
     "locked": true,
     "points": 1,
     "schema_version": 3,
     "solution": false,
     "task": false
    }
   },
   "outputs": [],
   "source": [
    "np.random.seed(1794) # this forces the system to draw specific random numbers, \n",
    "# do not remove this line as I use it to check your work. \n",
    "# free points if it compiles \n",
    "assert draw_rho(0.001) == 0.0011446000111932104\n",
    "np.random.seed() # this forces the system back to drawing random numbers normally."
   ]
  },
  {
   "cell_type": "markdown",
   "metadata": {
    "deletable": false,
    "editable": false,
    "nbgrader": {
     "cell_type": "markdown",
     "checksum": "ec51cf777fc1f3ddf7654ae0f90c8825",
     "grade": false,
     "grade_id": "cell-599c4144d365ba24",
     "locked": true,
     "schema_version": 3,
     "solution": false,
     "task": false
    }
   },
   "source": [
    "Now we will create functions for $\\gamma$ and $\\eta$, they will all be named similarly as `draw_rho`, and will also draw from an exponential distribution. \n"
   ]
  },
  {
   "cell_type": "code",
   "execution_count": null,
   "metadata": {
    "deletable": false,
    "nbgrader": {
     "cell_type": "code",
     "checksum": "db410d9379b31e44f817bb220b911f2b",
     "grade": false,
     "grade_id": "cell-06d1f6389d520921",
     "locked": false,
     "schema_version": 3,
     "solution": true,
     "task": false
    }
   },
   "outputs": [],
   "source": [
    "def draw_gamma(gamma):\n",
    "    # YOUR CODE HERE\n",
    "    raise NotImplementedError()\n",
    "    return(result)"
   ]
  },
  {
   "cell_type": "code",
   "execution_count": null,
   "metadata": {
    "deletable": false,
    "nbgrader": {
     "cell_type": "code",
     "checksum": "863d71d6c5a23916f3bf90e13191d5d2",
     "grade": false,
     "grade_id": "cell-b2bc495240a110fd",
     "locked": false,
     "schema_version": 3,
     "solution": true,
     "task": false
    }
   },
   "outputs": [],
   "source": [
    "def draw_eta(eta):\n",
    "    # YOUR CODE HERE\n",
    "    raise NotImplementedError()\n",
    "    return(result)"
   ]
  },
  {
   "cell_type": "code",
   "execution_count": null,
   "metadata": {
    "deletable": false,
    "editable": false,
    "nbgrader": {
     "cell_type": "code",
     "checksum": "b3ff7d25305deb1f411031e8a6e14f0d",
     "grade": true,
     "grade_id": "cell-5dbd06f6636e8415",
     "locked": true,
     "points": 1,
     "schema_version": 3,
     "solution": false,
     "task": false
    }
   },
   "outputs": [],
   "source": [
    "np.random.seed(1804) # this forces the system to draw specific random numbers, \n",
    "# do not remove this line as I use it to check your work. \n",
    "# free points if it compiles \n",
    "assert draw_gamma(0.05) == 0.0372456510941877\n",
    "np.random.seed() # this forces the system back to drawing random numbers normally."
   ]
  },
  {
   "cell_type": "code",
   "execution_count": null,
   "metadata": {
    "deletable": false,
    "editable": false,
    "nbgrader": {
     "cell_type": "code",
     "checksum": "37b61f5c9afa7871165870fdc477dbb1",
     "grade": true,
     "grade_id": "cell-9d60d068ce38fbc2",
     "locked": true,
     "points": 1,
     "schema_version": 3,
     "solution": false,
     "task": false
    }
   },
   "outputs": [],
   "source": [
    "np.random.seed(1804) # this forces the system to draw specific random numbers, \n",
    "# do not remove this line as I use it to check your work. \n",
    "# free points if it compiles \n",
    "assert draw_eta(0.001) == 0.000744913021883754\n",
    "np.random.seed() # this forces the system back to drawing random numbers normally."
   ]
  },
  {
   "cell_type": "markdown",
   "metadata": {
    "deletable": false,
    "editable": false,
    "nbgrader": {
     "cell_type": "markdown",
     "checksum": "92f309ccf31ca4812ed457d19951bde1",
     "grade": false,
     "grade_id": "cell-e799a09debbb797e",
     "locked": true,
     "schema_version": 3,
     "solution": false,
     "task": false
    }
   },
   "source": [
    "So now we have the following model! \n",
    "$$\\rho \\sim Exp(0.001)$$\n",
    "$$\\gamma \\sim Exp(0.05) $$\n",
    "$$\\eta \\sim Exp(0.001) $$\n",
    "\n",
    "$\\quad$\n",
    "\n",
    "$$  \\frac{ \\partial S}{\\partial t} = -\\rho S I  $$\n",
    "$\\quad$\n",
    "$$ \\frac{ \\partial I}{\\partial t} = \\rho S I - \\gamma I - \\eta I $$\n",
    "$\\quad$\n",
    "$$ \\frac{ \\partial D}{\\partial t} = \\eta I  $$\n",
    "$\\quad$\n",
    "$$ \\frac{ \\partial R}{\\partial t} =  \\gamma I $$"
   ]
  },
  {
   "cell_type": "markdown",
   "metadata": {
    "deletable": false,
    "editable": false,
    "nbgrader": {
     "cell_type": "markdown",
     "checksum": "6b6f1a5200fa354fdf2e29cce3991479",
     "grade": false,
     "grade_id": "cell-267dbcfafdbee685",
     "locked": true,
     "schema_version": 3,
     "solution": false,
     "task": false
    }
   },
   "source": [
    "This means that every iteration of the for loop you must call the draw functions to draw the new parameters!. Use the `model_pandemic` function from the previous question but add the new random variable draws at every loop. "
   ]
  },
  {
   "cell_type": "code",
   "execution_count": null,
   "metadata": {
    "deletable": false,
    "nbgrader": {
     "cell_type": "code",
     "checksum": "ac2ccb81362bb2b17c8e9f9b30dc94de",
     "grade": false,
     "grade_id": "cell-b14be9214010fe0a",
     "locked": false,
     "schema_version": 3,
     "solution": true,
     "task": false
    }
   },
   "outputs": [],
   "source": [
    "def model_pandemic(S_o,I_o):\n",
    "    \"\"\" \n",
    "    Model pandemic function which uses euler's method to calculate S,I,R, and D populations.\n",
    "    \n",
    "    This function models up to 100 days.  *hint*. Use the create_t function\n",
    "    \n",
    "    The parameters have all been given to you already. \n",
    "    \"\"\"\n",
    "    # note for all intensive purposes, these parameters are fixed for this question, \n",
    "    # do not change this numbers or delete them. \n",
    "    rho_rate = 0.001 # this will be called in draw_rho\n",
    "    gamma_rate = 0.05 # this will be called in draw_gamma\n",
    "    eta_rate = 0.001  # this will be called in draw_eta at every loop\n",
    "    \n",
    "    # YOUR CODE HERE\n",
    "    raise NotImplementedError()\n",
    "    return (S,I,R,D)"
   ]
  },
  {
   "cell_type": "code",
   "execution_count": null,
   "metadata": {
    "deletable": false,
    "editable": false,
    "nbgrader": {
     "cell_type": "code",
     "checksum": "bee9dfa08d550d395b52d980019fc2dd",
     "grade": true,
     "grade_id": "cell-27feb5502e772753",
     "locked": true,
     "points": 1,
     "schema_version": 3,
     "solution": false,
     "task": false
    }
   },
   "outputs": [],
   "source": [
    "S,I,R,D = model_pandemic(100,10)"
   ]
  },
  {
   "cell_type": "code",
   "execution_count": null,
   "metadata": {
    "deletable": false,
    "editable": false,
    "nbgrader": {
     "cell_type": "code",
     "checksum": "31a49c8648d0e7cb8ce3ccd6948ee46e",
     "grade": false,
     "grade_id": "cell-8f11e7a628e970e7",
     "locked": true,
     "schema_version": 3,
     "solution": false,
     "task": false
    }
   },
   "outputs": [],
   "source": [
    "# plotting these results\n",
    "pyplot.plot(S,label = \"Susceptible\")\n",
    "pyplot.plot(I,label = \"Infected\")\n",
    "pyplot.plot(R,label = \"Recovered\")\n",
    "pyplot.plot(D,label = \"Dead\")\n",
    "pyplot.legend()"
   ]
  },
  {
   "cell_type": "code",
   "execution_count": null,
   "metadata": {
    "deletable": false,
    "editable": false,
    "nbgrader": {
     "cell_type": "code",
     "checksum": "a5d0b554cd7750f3820e843dd89f3688",
     "grade": false,
     "grade_id": "cell-f3b1589598e549a3",
     "locked": true,
     "schema_version": 3,
     "solution": false,
     "task": false
    }
   },
   "outputs": [],
   "source": [
    "# this one \n",
    "S,I,R,D = model_pandemic(100,10)\n",
    "# plotting these results\n",
    "pyplot.plot(S,label = \"Susceptible\")\n",
    "pyplot.plot(I,label = \"Infected\")\n",
    "pyplot.plot(R,label = \"Recovered\")\n",
    "pyplot.plot(D,label = \"Dead\")\n",
    "pyplot.legend()"
   ]
  },
  {
   "cell_type": "code",
   "execution_count": null,
   "metadata": {
    "deletable": false,
    "editable": false,
    "nbgrader": {
     "cell_type": "code",
     "checksum": "108632cd0599525652f2b988526ed5e2",
     "grade": false,
     "grade_id": "cell-21fcc905d6a75306",
     "locked": true,
     "schema_version": 3,
     "solution": false,
     "task": false
    }
   },
   "outputs": [],
   "source": [
    "# notice the difference between each of the plots.. they have different trajectories, "
   ]
  },
  {
   "cell_type": "code",
   "execution_count": null,
   "metadata": {
    "deletable": false,
    "editable": false,
    "nbgrader": {
     "cell_type": "code",
     "checksum": "5916749af152449ed37235d8918aaecd",
     "grade": false,
     "grade_id": "cell-10eaeaecb789466a",
     "locked": true,
     "schema_version": 3,
     "solution": false,
     "task": false
    }
   },
   "outputs": [],
   "source": [
    "# lets plot a bunch of trajectories at once \n",
    "pyplot.plot(S,label = \"Susceptible\",color=\"blue\")\n",
    "pyplot.plot(I,label = \"Infected\",color = \"orange\")\n",
    "pyplot.plot(R,label = \"Recovered\",color = \"green\")\n",
    "pyplot.plot(D,label = \"Dead\",color = \"red\")\n",
    "pyplot.legend()\n",
    "\n",
    "for i in range(0,5):\n",
    "    # run model\n",
    "    S,I,R,D = model_pandemic(100,10)\n",
    "    # plotting these results\n",
    "    pyplot.plot(S,label = \"Susceptible\",color=\"blue\")\n",
    "    pyplot.plot(I,label = \"Infected\",color = \"orange\")\n",
    "    pyplot.plot(R,label = \"Recovered\",color = \"green\")\n",
    "    pyplot.plot(D,label = \"Dead\",color = \"red\")"
   ]
  },
  {
   "cell_type": "code",
   "execution_count": null,
   "metadata": {
    "deletable": false,
    "editable": false,
    "nbgrader": {
     "cell_type": "code",
     "checksum": "ba75d62c891e4220b82917ebde9223b4",
     "grade": false,
     "grade_id": "cell-3ce010534b8fbe4e",
     "locked": true,
     "schema_version": 3,
     "solution": false,
     "task": false
    }
   },
   "outputs": [],
   "source": [
    "# note that each one of the trajectories are different,\n",
    "# but follow a similar behaviour as one another"
   ]
  },
  {
   "cell_type": "markdown",
   "metadata": {
    "deletable": false,
    "editable": false,
    "nbgrader": {
     "cell_type": "markdown",
     "checksum": "6755cb4480cafe6f286df16efc845625",
     "grade": false,
     "grade_id": "cell-575281906767c962",
     "locked": true,
     "schema_version": 3,
     "solution": false,
     "task": false
    }
   },
   "source": [
    "Write a function called `acquire_mean_traj` which takes in `runs` the number of runs, and returns `SM`,`IM`,`RM`,`DM`, an `np.array` types.  Where each return is the mean of the total number of runs. Note that this is not a single number, it is a `np.array` with the mean entry for each time step t across all runs!. You should use the `model_pandemic` function, with starting values `S_o = 100` and `I_o = 10`. "
   ]
  },
  {
   "cell_type": "code",
   "execution_count": null,
   "metadata": {
    "deletable": false,
    "nbgrader": {
     "cell_type": "code",
     "checksum": "678a302281b3c04a234e736c08735ef4",
     "grade": false,
     "grade_id": "cell-b49cd138d4fd9404",
     "locked": false,
     "schema_version": 3,
     "solution": true,
     "task": false
    }
   },
   "outputs": [],
   "source": [
    "def acquire_mean_traj(runs):\n",
    "    \"\"\" Get the mean trajectory across all runs\"\"\"\n",
    "    # YOUR CODE HERE\n",
    "    raise NotImplementedError()\n",
    "    return(SM,IM,RM,DM)"
   ]
  },
  {
   "cell_type": "code",
   "execution_count": null,
   "metadata": {
    "deletable": false,
    "editable": false,
    "nbgrader": {
     "cell_type": "code",
     "checksum": "c721e41e9e370d2c029d31736d7d8c9b",
     "grade": true,
     "grade_id": "cell-cb5efb5a68ec7376",
     "locked": true,
     "points": 1,
     "schema_version": 3,
     "solution": false,
     "task": false
    }
   },
   "outputs": [],
   "source": [
    "# get the mean trajectories of 50 runs\n",
    "SM,IM,RM,DM = acquire_mean_traj(50)\n",
    "# lets plot a bunch of trajectories at once \n",
    "pyplot.plot(SM,label = \"Susceptible\",color=\"blue\")\n",
    "pyplot.plot(IM,label = \"Infected\",color = \"orange\")\n",
    "pyplot.plot(RM,label = \"Recovered\",color = \"green\")\n",
    "pyplot.plot(DM,label = \"Dead\",color = \"red\")\n",
    "pyplot.legend()\n"
   ]
  },
  {
   "cell_type": "code",
   "execution_count": null,
   "metadata": {
    "deletable": false,
    "editable": false,
    "nbgrader": {
     "cell_type": "code",
     "checksum": "0932aac99e6dd1db0cef34bb09bb30e6",
     "grade": false,
     "grade_id": "cell-63cecc61b4bf83fc",
     "locked": true,
     "schema_version": 3,
     "solution": false,
     "task": false
    }
   },
   "outputs": [],
   "source": [
    "# notice how this plot is much more smooth, and resembles a deterministic model!\n",
    "# This means ... on average the behaviour of our probabilistic model is deterministic itself"
   ]
  },
  {
   "cell_type": "markdown",
   "metadata": {
    "deletable": false,
    "editable": false,
    "nbgrader": {
     "cell_type": "markdown",
     "checksum": "77c475e896cd4c43ff9757115e016ef2",
     "grade": false,
     "grade_id": "cell-17986eedb214c00d",
     "locked": true,
     "schema_version": 3,
     "solution": false,
     "task": false
    }
   },
   "source": [
    "Write a function called `acquire_worst_traj` which takes in `runs` the number of runs, and returns `SW`,`IW`,`RW`,`DW`, an `np.array` types.  This function calculates the highest number of infected cases for each run, and returns the trajectory with the highest infected case **among all runs**. This is the worst case scneario. You should use the `model_pandemic` function, with starting values `S_o = 100` and `I_o = 10`. "
   ]
  },
  {
   "cell_type": "code",
   "execution_count": null,
   "metadata": {
    "deletable": false,
    "nbgrader": {
     "cell_type": "code",
     "checksum": "1e9b86812a31b1851dec047892a0da40",
     "grade": false,
     "grade_id": "cell-62ddc1ec9e51cda8",
     "locked": false,
     "schema_version": 3,
     "solution": true,
     "task": false
    }
   },
   "outputs": [],
   "source": [
    "def acquire_worst_traj(runs):\n",
    "    \"\"\" Get the worst trajectory across all runs\"\"\"\n",
    "    # YOUR CODE HERE\n",
    "    raise NotImplementedError()\n",
    "    return(SW,IW,RW,DW)"
   ]
  },
  {
   "cell_type": "code",
   "execution_count": null,
   "metadata": {
    "deletable": false,
    "editable": false,
    "nbgrader": {
     "cell_type": "code",
     "checksum": "134e6fd7489eb16b0f3503f619701f05",
     "grade": true,
     "grade_id": "cell-492342c674a9aa56",
     "locked": true,
     "points": 1,
     "schema_version": 3,
     "solution": false,
     "task": false
    }
   },
   "outputs": [],
   "source": [
    "# get the worst case scenario of 50 runs\n",
    "SW,IW,RW,DW = acquire_worst_traj(50)\n",
    "\n",
    "# lets plot a bunch of trajectories at once \n",
    "pyplot.plot(SW,label = \"Susceptible\",color=\"blue\")\n",
    "pyplot.plot(IW,label = \"Infected\",color = \"orange\")\n",
    "pyplot.plot(RW,label = \"Recovered\",color = \"green\")\n",
    "pyplot.plot(DW,label = \"Dead\",color = \"red\")\n",
    "pyplot.legend()\n",
    "\n"
   ]
  },
  {
   "cell_type": "markdown",
   "metadata": {
    "deletable": false,
    "editable": false,
    "nbgrader": {
     "cell_type": "markdown",
     "checksum": "ece0695f8e40856d056acf9ce5e477e6",
     "grade": false,
     "grade_id": "cell-c3209389bea1839c",
     "locked": true,
     "schema_version": 3,
     "solution": false,
     "task": false
    }
   },
   "source": [
    "Write a function called `acquire_best_traj` which takes in `runs` the number of runs, and returns `SB`,`IB`,`RB`,`DB`, an `np.array` types.  This function calculates the highest number of infected cases for each run, and returns the trajectory with the lowest highest infected case **among all runs**. This is the best case scneario. You should use the `model_pandemic` function, with starting values `S_o = 100` and `I_o = 10`. Note that you should not be using `np.min` for this question!"
   ]
  },
  {
   "cell_type": "code",
   "execution_count": null,
   "metadata": {
    "deletable": false,
    "nbgrader": {
     "cell_type": "code",
     "checksum": "4ada6b246b3835a498dd0d1c19615f1f",
     "grade": false,
     "grade_id": "cell-4c2828d2c7afbcf6",
     "locked": false,
     "schema_version": 3,
     "solution": true,
     "task": false
    }
   },
   "outputs": [],
   "source": [
    "def acquire_best_traj(runs):\n",
    "    \"\"\" Get the best trajectory across all runs\"\"\"\n",
    "    # YOUR CODE HERE\n",
    "    raise NotImplementedError()\n",
    "    return(SB,IB,RB,DB)"
   ]
  },
  {
   "cell_type": "code",
   "execution_count": null,
   "metadata": {
    "deletable": false,
    "editable": false,
    "nbgrader": {
     "cell_type": "code",
     "checksum": "8447d94ddcca82a56ee8e9d15e9453b4",
     "grade": true,
     "grade_id": "cell-df67abe40534e7bc",
     "locked": true,
     "points": 1,
     "schema_version": 3,
     "solution": false,
     "task": false
    }
   },
   "outputs": [],
   "source": [
    "# get the best case scenario of 50 runs\n",
    "SB,IB,RB,DB = acquire_best_traj(50)\n",
    "\n",
    "pyplot.plot(SB,label = \"Susceptible\",color=\"blue\")\n",
    "pyplot.plot(IB,label = \"Infected\",color = \"orange\")\n",
    "pyplot.plot(RB,label = \"Recovered\",color = \"green\")\n",
    "pyplot.plot(DB,label = \"Dead\",color = \"red\")\n",
    "pyplot.legend()\n"
   ]
  },
  {
   "cell_type": "code",
   "execution_count": null,
   "metadata": {
    "deletable": false,
    "editable": false,
    "nbgrader": {
     "cell_type": "code",
     "checksum": "395e39190a84a25751a878cbac17fd6b",
     "grade": true,
     "grade_id": "cell-94dcb52b0f3db8ed",
     "locked": true,
     "points": 4,
     "schema_version": 3,
     "solution": false,
     "task": false
    }
   },
   "outputs": [],
   "source": [
    "# plotting everything all at once\n",
    "# set the seed. \n",
    "np.random.seed(1820)\n",
    "# get the mean trajectories of 50 runs\n",
    "SM,IM,RM,DM = acquire_mean_traj(50)\n",
    "# get the worst case scenario of 50 runs\n",
    "SW,IW,RW,DW = acquire_worst_traj(50)\n",
    "# get the best case scenario of 50 runs\n",
    "SB,IB,RB,DB = acquire_best_traj(50)\n",
    "# lets plot a bunch of trajectories at once \n",
    "pyplot.rcParams['axes.facecolor'] = 'grey'\n",
    "pyplot.plot(SM,label = \"Mean Susceptible\",color=\"darkblue\")\n",
    "pyplot.plot(IM,label = \"Mean Infected\",color = \"darkorange\")\n",
    "pyplot.plot(RM,label = \"Mean Recovered\",color = \"darkgreen\")\n",
    "pyplot.plot(DM,label = \"Mean Dead\",color = \"darkred\")\n",
    "pyplot.legend()\n",
    "pyplot.plot(SW,label = \"Worst Susceptible\",color=\"lightblue\")\n",
    "pyplot.plot(IW,label = \"WorstInfected\",color = \"yellow\")\n",
    "pyplot.plot(RW,label = \"Worst Recovered\",color = \"lightgreen\")\n",
    "pyplot.plot(DW,label = \"Worst Dead\",color = \"red\")\n",
    "pyplot.plot(SB,label = \"Best Susceptible\",color=\"blue\")\n",
    "pyplot.plot(IB,label = \"Best Infected\",color = \"orange\")\n",
    "pyplot.plot(RB,label = \"Best Recovered\",color = \"green\")\n",
    "pyplot.plot(DB,label = \"Best Dead\",color = \"red\")\n",
    "np.random.seed()\n"
   ]
  },
  {
   "cell_type": "code",
   "execution_count": null,
   "metadata": {
    "deletable": false,
    "editable": false,
    "nbgrader": {
     "cell_type": "code",
     "checksum": "0628737dcf64acca8cc715eb47b91619",
     "grade": false,
     "grade_id": "cell-c2a4ec55f9148eb4",
     "locked": true,
     "schema_version": 3,
     "solution": false,
     "task": false
    }
   },
   "outputs": [],
   "source": [
    "# note the difference between the worst case and best scenarios. "
   ]
  },
  {
   "cell_type": "markdown",
   "metadata": {
    "deletable": false,
    "editable": false,
    "nbgrader": {
     "cell_type": "markdown",
     "checksum": "b7cbb6c3276374eaeeda73fa8e08b707",
     "grade": false,
     "grade_id": "cell-a342014bc89c8ce0",
     "locked": true,
     "schema_version": 3,
     "solution": false,
     "task": false
    }
   },
   "source": [
    "This part of the project will require True/False answer based on the plot above. "
   ]
  },
  {
   "cell_type": "code",
   "execution_count": null,
   "metadata": {
    "deletable": false,
    "nbgrader": {
     "cell_type": "code",
     "checksum": "ae138849a45d040ae6f229c9c7e19309",
     "grade": false,
     "grade_id": "cell-edf21d259a3d605e",
     "locked": false,
     "schema_version": 3,
     "solution": true,
     "task": false
    }
   },
   "outputs": [],
   "source": [
    "def final_question_1():\n",
    "    \"\"\"The worst case scenario also has a higher population through the 100 days\"\"\"\n",
    "    # YOUR CODE HERE\n",
    "    raise NotImplementedError()\n",
    "    return(answer)\n",
    "\n",
    "def final_question_2():\n",
    "    \"\"\"The mean infected population can not be higher than the worst case infected scenario\"\"\"\n",
    "    # YOUR CODE HERE\n",
    "    raise NotImplementedError()\n",
    "    return(answer)\n",
    "\n",
    "def final_question_3():\n",
    "    \"\"\"The dead populations are roughly the same irregardless of which scenario (worst,best,mean) \n",
    "    we are in\"\"\"\n",
    "    # YOUR CODE HERE\n",
    "    raise NotImplementedError()\n",
    "    return(answer)\n",
    "\n",
    "def final_question_4():\n",
    "    \"\"\" Worst case scenarios always have a higher infected population throughout time\"\"\"\n",
    "    # YOUR CODE HERE\n",
    "    raise NotImplementedError()\n",
    "    return(answer)\n",
    "\n",
    "def final_question_5():\n",
    "    \"\"\" Worst case scenario has a higher infection rate overall\"\"\"\n",
    "    # YOUR CODE HERE\n",
    "    raise NotImplementedError()\n",
    "    return(answer)"
   ]
  },
  {
   "cell_type": "code",
   "execution_count": null,
   "metadata": {
    "deletable": false,
    "editable": false,
    "nbgrader": {
     "cell_type": "code",
     "checksum": "df99c0c39990bd3f69059415a2a51b65",
     "grade": true,
     "grade_id": "cell-f68dffff468b9009",
     "locked": true,
     "points": 1,
     "schema_version": 3,
     "solution": false,
     "task": false
    }
   },
   "outputs": [],
   "source": [
    "# hidden tests beware"
   ]
  },
  {
   "cell_type": "code",
   "execution_count": null,
   "metadata": {
    "deletable": false,
    "editable": false,
    "nbgrader": {
     "cell_type": "code",
     "checksum": "f6b39e59ee6b79a462ede98b389e96e8",
     "grade": true,
     "grade_id": "cell-c6fa633eeb2a41c0",
     "locked": true,
     "points": 1,
     "schema_version": 3,
     "solution": false,
     "task": false
    }
   },
   "outputs": [],
   "source": [
    "# hidden tests beware"
   ]
  },
  {
   "cell_type": "code",
   "execution_count": null,
   "metadata": {
    "deletable": false,
    "editable": false,
    "nbgrader": {
     "cell_type": "code",
     "checksum": "b3b9da0bc7b4299916aa4bb6a6da2ab1",
     "grade": true,
     "grade_id": "cell-8ffc086d25288aab",
     "locked": true,
     "points": 1,
     "schema_version": 3,
     "solution": false,
     "task": false
    }
   },
   "outputs": [],
   "source": [
    "# hidden tests beware"
   ]
  },
  {
   "cell_type": "code",
   "execution_count": null,
   "metadata": {
    "deletable": false,
    "editable": false,
    "nbgrader": {
     "cell_type": "code",
     "checksum": "e5c0bb1f48b9235a95a3cde076331c05",
     "grade": true,
     "grade_id": "cell-03221a1b5186701d",
     "locked": true,
     "points": 1,
     "schema_version": 3,
     "solution": false,
     "task": false
    }
   },
   "outputs": [],
   "source": [
    "# hidden tests beware"
   ]
  },
  {
   "cell_type": "code",
   "execution_count": null,
   "metadata": {
    "deletable": false,
    "editable": false,
    "nbgrader": {
     "cell_type": "code",
     "checksum": "7d1d3fdc4111365bf7b64752f9ba307c",
     "grade": true,
     "grade_id": "cell-b441e7184323d5ba",
     "locked": true,
     "points": 1,
     "schema_version": 3,
     "solution": false,
     "task": false
    }
   },
   "outputs": [],
   "source": [
    "# hidden tests beware"
   ]
  }
 ],
 "metadata": {
  "kernelspec": {
   "display_name": "Python 3",
   "language": "python",
   "name": "python3"
  },
  "language_info": {
   "codemirror_mode": {
    "name": "ipython",
    "version": 3
   },
   "file_extension": ".py",
   "mimetype": "text/x-python",
   "name": "python",
   "nbconvert_exporter": "python",
   "pygments_lexer": "ipython3",
   "version": "3.8.3"
  }
 },
 "nbformat": 4,
 "nbformat_minor": 4
}
